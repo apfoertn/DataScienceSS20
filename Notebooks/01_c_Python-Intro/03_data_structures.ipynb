{
  "nbformat": 4,
  "nbformat_minor": 0,
  "metadata": {
    "kernelspec": {
      "display_name": "Python 3",
      "language": "python",
      "name": "python3"
    },
    "language_info": {
      "codemirror_mode": {
        "name": "ipython",
        "version": 3
      },
      "file_extension": ".py",
      "mimetype": "text/x-python",
      "name": "python",
      "nbconvert_exporter": "python",
      "pygments_lexer": "ipython3",
      "version": "3.7.1"
    },
    "colab": {
      "name": "03_data_structures.ipynb",
      "provenance": []
    }
  },
  "cells": [
    {
      "cell_type": "markdown",
      "metadata": {
        "id": "6P9MekMNx1jq",
        "colab_type": "text"
      },
      "source": [
        "# Introduction to Python III - Data Structures\n",
        "* Based on a lecture series by Rajath Kumart (https://github.com/rajathkumarmp/Python-Lectures)\n",
        "* Ported to Python3 and extessions added by Janis Keuper\n",
        "* Copyright: Creative Commons Attribution 3.0 Unported License. To view a copy of this license, visit http://creativecommons.org/licenses/by/3.0/"
      ]
    },
    {
      "cell_type": "code",
      "metadata": {
        "id": "Al3YGbhPx1jt",
        "colab_type": "code",
        "colab": {
          "base_uri": "https://localhost:8080/",
          "height": 50
        },
        "outputId": "30072801-7d84-4dab-fe3a-e5d1893b2957"
      },
      "source": [
        "#check if notebook runs in colab\n",
        "import sys\n",
        "IN_COLAB = 'google.colab' in sys.modules\n",
        "print('running in Colab:',IN_COLAB)\n",
        "path='..'\n",
        "if IN_COLAB:\n",
        "  #in colab, we need to clone the data from the repo\n",
        "  !git clone https://github.com/keuperj/DataScienceSS20.git\n",
        "  path='DataScienceSS20'"
      ],
      "execution_count": 2,
      "outputs": [
        {
          "output_type": "stream",
          "text": [
            "running in Colab: True\n",
            "fatal: destination path 'DataScienceSS20' already exists and is not an empty directory.\n"
          ],
          "name": "stdout"
        }
      ]
    },
    {
      "cell_type": "markdown",
      "metadata": {
        "id": "Cgl2_fcox1j1",
        "colab_type": "text"
      },
      "source": [
        "# Data Structures"
      ]
    },
    {
      "cell_type": "markdown",
      "metadata": {
        "id": "WCAQi-mrx1j2",
        "colab_type": "text"
      },
      "source": [
        "In simple terms, It is the the collection or group of data in a particular structure."
      ]
    },
    {
      "cell_type": "markdown",
      "metadata": {
        "id": "3Cx4RVm4x1j3",
        "colab_type": "text"
      },
      "source": [
        "## Lists"
      ]
    },
    {
      "cell_type": "markdown",
      "metadata": {
        "id": "W-s9pKznx1j4",
        "colab_type": "text"
      },
      "source": [
        "Lists are the most commonly used data structure. Think of it as a sequence of data that is enclosed in square brackets and data are separated by a comma. Each of these data can be accessed by calling it's index value.\n",
        "\n",
        "Lists are declared by just equating a variable to '[ ]' or list."
      ]
    },
    {
      "cell_type": "code",
      "metadata": {
        "id": "f9qqaiLEx1j5",
        "colab_type": "code",
        "colab": {}
      },
      "source": [
        "a = []"
      ],
      "execution_count": 0,
      "outputs": []
    },
    {
      "cell_type": "code",
      "metadata": {
        "id": "JRIMqbTPx1kA",
        "colab_type": "code",
        "colab": {
          "base_uri": "https://localhost:8080/",
          "height": 33
        },
        "outputId": "940f79c4-700b-49d1-9552-54a0e87e8562"
      },
      "source": [
        "print (type(a))"
      ],
      "execution_count": 4,
      "outputs": [
        {
          "output_type": "stream",
          "text": [
            "<class 'list'>\n"
          ],
          "name": "stdout"
        }
      ]
    },
    {
      "cell_type": "markdown",
      "metadata": {
        "id": "DK3JJ1z7x1kE",
        "colab_type": "text"
      },
      "source": [
        "One can directly assign the sequence of data to a list x as shown."
      ]
    },
    {
      "cell_type": "code",
      "metadata": {
        "id": "iWAdDXc8x1kF",
        "colab_type": "code",
        "colab": {}
      },
      "source": [
        "x = ['apple', 'orange']"
      ],
      "execution_count": 0,
      "outputs": []
    },
    {
      "cell_type": "markdown",
      "metadata": {
        "id": "JYWqy0oOx1kJ",
        "colab_type": "text"
      },
      "source": [
        "### Indexing"
      ]
    },
    {
      "cell_type": "markdown",
      "metadata": {
        "id": "DRml9_sXx1kK",
        "colab_type": "text"
      },
      "source": [
        "In python, Indexing starts from 0. Thus now the list x, which has two elements will have apple at 0 index and orange at 1 index."
      ]
    },
    {
      "cell_type": "code",
      "metadata": {
        "id": "fRq1WC30x1kM",
        "colab_type": "code",
        "colab": {
          "base_uri": "https://localhost:8080/",
          "height": 33
        },
        "outputId": "176e8f52-d0bb-40db-a548-80d4d7f24784"
      },
      "source": [
        "x[0]"
      ],
      "execution_count": 10,
      "outputs": [
        {
          "output_type": "execute_result",
          "data": {
            "text/plain": [
              "'apple'"
            ]
          },
          "metadata": {
            "tags": []
          },
          "execution_count": 10
        }
      ]
    },
    {
      "cell_type": "markdown",
      "metadata": {
        "id": "srDJ4t4Hx1kT",
        "colab_type": "text"
      },
      "source": [
        "Indexing can also be done in reverse order. That is the last element can be accessed first. Here, indexing starts from -1. Thus index value -1 will be orange and index -2 will be apple."
      ]
    },
    {
      "cell_type": "code",
      "metadata": {
        "id": "imyitLmxx1kV",
        "colab_type": "code",
        "colab": {
          "base_uri": "https://localhost:8080/",
          "height": 33
        },
        "outputId": "34e83fb8-cd11-4654-d14c-9d45d366ee49"
      },
      "source": [
        "x[-1]"
      ],
      "execution_count": 11,
      "outputs": [
        {
          "output_type": "execute_result",
          "data": {
            "text/plain": [
              "'orange'"
            ]
          },
          "metadata": {
            "tags": []
          },
          "execution_count": 11
        }
      ]
    },
    {
      "cell_type": "markdown",
      "metadata": {
        "id": "bUUxcKnqx1kd",
        "colab_type": "text"
      },
      "source": [
        "As you might have already guessed, x[0] = x[-2], x[1] = x[-1]. This concept can be extended towards lists with more many elements."
      ]
    },
    {
      "cell_type": "code",
      "metadata": {
        "id": "5zgu4lWNx1kg",
        "colab_type": "code",
        "colab": {}
      },
      "source": [
        "y = ['carrot','potato']"
      ],
      "execution_count": 0,
      "outputs": []
    },
    {
      "cell_type": "markdown",
      "metadata": {
        "id": "twg5M7zAx1kl",
        "colab_type": "text"
      },
      "source": [
        "Here we have declared two lists x and y each containing its own data. Now, these two lists can again be put into another list say z which will have it's data as two lists. This list inside a list is called as nested lists and is how an array would be declared which we will see later."
      ]
    },
    {
      "cell_type": "code",
      "metadata": {
        "id": "UYLz5LiSx1km",
        "colab_type": "code",
        "colab": {
          "base_uri": "https://localhost:8080/",
          "height": 33
        },
        "outputId": "13897e6f-3471-40a2-fde2-cb086070825c"
      },
      "source": [
        "z  = [x,y]\n",
        "print (z)"
      ],
      "execution_count": 13,
      "outputs": [
        {
          "output_type": "stream",
          "text": [
            "[['apple', 'orange'], ['carrot', 'potato']]\n"
          ],
          "name": "stdout"
        }
      ]
    },
    {
      "cell_type": "markdown",
      "metadata": {
        "id": "qdJuw3T0x1kq",
        "colab_type": "text"
      },
      "source": [
        "Indexing in nested lists can be quite confusing if you do not understand how indexing works in python. So let us break it down and then arrive at a conclusion.\n",
        "\n",
        "Let us access the data 'apple' in the above nested list.\n",
        "First, at index 0 there is a list ['apple','orange'] and at index 1 there is another list ['carrot','potato']. Hence z[0] should give us the first list which contains 'apple'."
      ]
    },
    {
      "cell_type": "code",
      "metadata": {
        "id": "TCLSrr8Cx1kr",
        "colab_type": "code",
        "colab": {
          "base_uri": "https://localhost:8080/",
          "height": 33
        },
        "outputId": "08be1563-334d-40ba-b327-4760216bd083"
      },
      "source": [
        "z1 = z[0]\n",
        "print (z1)"
      ],
      "execution_count": 14,
      "outputs": [
        {
          "output_type": "stream",
          "text": [
            "['apple', 'orange']\n"
          ],
          "name": "stdout"
        }
      ]
    },
    {
      "cell_type": "markdown",
      "metadata": {
        "id": "4njjKURvx1k0",
        "colab_type": "text"
      },
      "source": [
        "Now observe that z1 is not at all a nested list thus to access 'apple', z1 should be indexed at 0."
      ]
    },
    {
      "cell_type": "code",
      "metadata": {
        "id": "8LgBQBdox1k1",
        "colab_type": "code",
        "colab": {
          "base_uri": "https://localhost:8080/",
          "height": 33
        },
        "outputId": "d36639e4-f1e1-4f44-a579-513514f69589"
      },
      "source": [
        "z1[0]"
      ],
      "execution_count": 15,
      "outputs": [
        {
          "output_type": "execute_result",
          "data": {
            "text/plain": [
              "'apple'"
            ]
          },
          "metadata": {
            "tags": []
          },
          "execution_count": 15
        }
      ]
    },
    {
      "cell_type": "markdown",
      "metadata": {
        "id": "ieuuiwTLx1k4",
        "colab_type": "text"
      },
      "source": [
        "Instead of doing the above, In python, you can access 'apple' by just writing the index values each time side by side."
      ]
    },
    {
      "cell_type": "code",
      "metadata": {
        "id": "MeYsMS7Jx1k5",
        "colab_type": "code",
        "colab": {
          "base_uri": "https://localhost:8080/",
          "height": 33
        },
        "outputId": "4071aba4-bad7-4fb7-cbdf-6285fa41aef8"
      },
      "source": [
        "z[0][0]"
      ],
      "execution_count": 16,
      "outputs": [
        {
          "output_type": "execute_result",
          "data": {
            "text/plain": [
              "'apple'"
            ]
          },
          "metadata": {
            "tags": []
          },
          "execution_count": 16
        }
      ]
    },
    {
      "cell_type": "markdown",
      "metadata": {
        "id": "SAtdNfETx1k8",
        "colab_type": "text"
      },
      "source": [
        "If there was a list inside a list inside a list then you can access the innermost value by executing z[ ][ ][ ]."
      ]
    },
    {
      "cell_type": "markdown",
      "metadata": {
        "id": "PmXMwFTNx1k9",
        "colab_type": "text"
      },
      "source": [
        "### Slicing"
      ]
    },
    {
      "cell_type": "markdown",
      "metadata": {
        "id": "6Vhp6tBEx1k-",
        "colab_type": "text"
      },
      "source": [
        "Indexing was only limited to accessing a single element, Slicing on the other hand is accessing a sequence of data inside the list. In other words \"slicing\" the list.\n",
        "\n",
        "Slicing is done by defining the index values of the first element and the last element from the parent list that is required in the sliced list. It is written as parentlist[ a : b ] where a,b are the index values from the parent list. If a or b is not defined then the index value is considered to be the first value for a if a is not defined and the last value for b when b is not defined."
      ]
    },
    {
      "cell_type": "code",
      "metadata": {
        "id": "PEcu4JkZx1k_",
        "colab_type": "code",
        "colab": {}
      },
      "source": [
        "num = [0,1,2,3,4,5,6,7,8,9]"
      ],
      "execution_count": 0,
      "outputs": []
    },
    {
      "cell_type": "code",
      "metadata": {
        "id": "Ut_u9prIx1lD",
        "colab_type": "code",
        "colab": {
          "base_uri": "https://localhost:8080/",
          "height": 50
        },
        "outputId": "cc782502-89e7-4892-dd44-8eb4bacb6cb1"
      },
      "source": [
        "print (num[0:4])\n",
        "print (num[4:])"
      ],
      "execution_count": 18,
      "outputs": [
        {
          "output_type": "stream",
          "text": [
            "[0, 1, 2, 3]\n",
            "[4, 5, 6, 7, 8, 9]\n"
          ],
          "name": "stdout"
        }
      ]
    },
    {
      "cell_type": "markdown",
      "metadata": {
        "id": "X9RZFDlLx1lH",
        "colab_type": "text"
      },
      "source": [
        "You can also slice a parent list with a fixed length or step length."
      ]
    },
    {
      "cell_type": "code",
      "metadata": {
        "id": "o0bgnJbAx1lI",
        "colab_type": "code",
        "colab": {
          "base_uri": "https://localhost:8080/",
          "height": 33
        },
        "outputId": "592cffdd-7d7f-4fef-9dbc-2ec70bde6999"
      },
      "source": [
        "num[:9:3]"
      ],
      "execution_count": 19,
      "outputs": [
        {
          "output_type": "execute_result",
          "data": {
            "text/plain": [
              "[0, 3, 6]"
            ]
          },
          "metadata": {
            "tags": []
          },
          "execution_count": 19
        }
      ]
    },
    {
      "cell_type": "markdown",
      "metadata": {
        "id": "WXa0gv3ix1lM",
        "colab_type": "text"
      },
      "source": [
        "### Built in List Functions"
      ]
    },
    {
      "cell_type": "markdown",
      "metadata": {
        "id": "zBVm3Hc5x1lM",
        "colab_type": "text"
      },
      "source": [
        "To find the length of the list or the number of elements in a list, **len( )** is used."
      ]
    },
    {
      "cell_type": "code",
      "metadata": {
        "id": "PgPW7s5ox1lN",
        "colab_type": "code",
        "colab": {
          "base_uri": "https://localhost:8080/",
          "height": 33
        },
        "outputId": "36bdf803-4ee3-4cad-de7b-d0ab95de3bc9"
      },
      "source": [
        "len(num)"
      ],
      "execution_count": 20,
      "outputs": [
        {
          "output_type": "execute_result",
          "data": {
            "text/plain": [
              "10"
            ]
          },
          "metadata": {
            "tags": []
          },
          "execution_count": 20
        }
      ]
    },
    {
      "cell_type": "markdown",
      "metadata": {
        "id": "g5CMb-rEx1lV",
        "colab_type": "text"
      },
      "source": [
        "If the list consists of all integer elements then **min( )** and **max( )** gives the minimum and maximum value in the list."
      ]
    },
    {
      "cell_type": "code",
      "metadata": {
        "id": "kUbdjhjfx1lW",
        "colab_type": "code",
        "colab": {
          "base_uri": "https://localhost:8080/",
          "height": 33
        },
        "outputId": "8b916c76-4f21-49f3-e16d-b0aa06223f88"
      },
      "source": [
        "min(num)"
      ],
      "execution_count": 21,
      "outputs": [
        {
          "output_type": "execute_result",
          "data": {
            "text/plain": [
              "0"
            ]
          },
          "metadata": {
            "tags": []
          },
          "execution_count": 21
        }
      ]
    },
    {
      "cell_type": "code",
      "metadata": {
        "id": "GzNoFckPx1lZ",
        "colab_type": "code",
        "colab": {
          "base_uri": "https://localhost:8080/",
          "height": 33
        },
        "outputId": "6baeb282-503e-4534-c59b-5a32f0c64a77"
      },
      "source": [
        "max(num)"
      ],
      "execution_count": 22,
      "outputs": [
        {
          "output_type": "execute_result",
          "data": {
            "text/plain": [
              "9"
            ]
          },
          "metadata": {
            "tags": []
          },
          "execution_count": 22
        }
      ]
    },
    {
      "cell_type": "markdown",
      "metadata": {
        "id": "X8-DIaBjx1lm",
        "colab_type": "text"
      },
      "source": [
        "Lists can be concatenated by adding, '+' them. The resultant list will contain all the elements of the lists that were added. The resultant list will not be a nested list."
      ]
    },
    {
      "cell_type": "code",
      "metadata": {
        "id": "mLyh_WTdx1ln",
        "colab_type": "code",
        "colab": {
          "base_uri": "https://localhost:8080/",
          "height": 33
        },
        "outputId": "8752270d-8b4b-4a0d-802b-5f25dd5fc026"
      },
      "source": [
        "[1,2,3] + [5,4,7]"
      ],
      "execution_count": 23,
      "outputs": [
        {
          "output_type": "execute_result",
          "data": {
            "text/plain": [
              "[1, 2, 3, 5, 4, 7]"
            ]
          },
          "metadata": {
            "tags": []
          },
          "execution_count": 23
        }
      ]
    },
    {
      "cell_type": "markdown",
      "metadata": {
        "id": "SLurpsKKx1lu",
        "colab_type": "text"
      },
      "source": [
        "There might arise a requirement where you might need to check if a particular element is there in a predefined list. Consider the below list."
      ]
    },
    {
      "cell_type": "code",
      "metadata": {
        "id": "I1FAnZUTx1lu",
        "colab_type": "code",
        "colab": {}
      },
      "source": [
        "names = ['Earth','Air','Fire','Water']"
      ],
      "execution_count": 0,
      "outputs": []
    },
    {
      "cell_type": "markdown",
      "metadata": {
        "id": "70cZbNq6x1l1",
        "colab_type": "text"
      },
      "source": [
        "To check if 'Fire' and 'Rajath' is present in the list names. A conventional approach would be to use a for loop and iterate over the list and use the if condition. But in python you can use 'a in b' concept which would return 'True' if a is present in b and 'False' if not."
      ]
    },
    {
      "cell_type": "code",
      "metadata": {
        "id": "u0DLF6RMx1l2",
        "colab_type": "code",
        "colab": {
          "base_uri": "https://localhost:8080/",
          "height": 33
        },
        "outputId": "072d1e1c-7dc6-4dd2-ba85-16751c6cc6bc"
      },
      "source": [
        "'Fire' in names"
      ],
      "execution_count": 25,
      "outputs": [
        {
          "output_type": "execute_result",
          "data": {
            "text/plain": [
              "True"
            ]
          },
          "metadata": {
            "tags": []
          },
          "execution_count": 25
        }
      ]
    },
    {
      "cell_type": "code",
      "metadata": {
        "id": "Oi7rA1rDx1mh",
        "colab_type": "code",
        "colab": {
          "base_uri": "https://localhost:8080/",
          "height": 33
        },
        "outputId": "51156d3f-1241-42ea-bf63-e0df50eebbda"
      },
      "source": [
        "'Hans' in names"
      ],
      "execution_count": 26,
      "outputs": [
        {
          "output_type": "execute_result",
          "data": {
            "text/plain": [
              "False"
            ]
          },
          "metadata": {
            "tags": []
          },
          "execution_count": 26
        }
      ]
    },
    {
      "cell_type": "markdown",
      "metadata": {
        "id": "PyfOsof3x1mm",
        "colab_type": "text"
      },
      "source": [
        "In a list with elements as string, **max( )** and **min( )** is applicable. **max( )** would return a string element whose ASCII value is the highest and the lowest when **min( )** is used. Note that only the first index of each element is considered each time and if they value is the same then second index considered so on and so forth."
      ]
    },
    {
      "cell_type": "code",
      "metadata": {
        "id": "MmmwTQLsx1mn",
        "colab_type": "code",
        "colab": {}
      },
      "source": [
        "mlist = ['bzaa','ds','nc','az','z','klm']"
      ],
      "execution_count": 0,
      "outputs": []
    },
    {
      "cell_type": "code",
      "metadata": {
        "id": "INdWzosox1ms",
        "colab_type": "code",
        "colab": {
          "base_uri": "https://localhost:8080/",
          "height": 50
        },
        "outputId": "c9e6189d-a01e-4c80-f371-5dcc5185af67"
      },
      "source": [
        "print (max(mlist))\n",
        "print (min(mlist))"
      ],
      "execution_count": 28,
      "outputs": [
        {
          "output_type": "stream",
          "text": [
            "z\n",
            "az\n"
          ],
          "name": "stdout"
        }
      ]
    },
    {
      "cell_type": "markdown",
      "metadata": {
        "id": "qBI8hP5lx1mw",
        "colab_type": "text"
      },
      "source": [
        "Here the first index of each element is considered and thus z has the highest ASCII value thus it is returned and minimum ASCII is a. But what if numbers are declared as strings?"
      ]
    },
    {
      "cell_type": "code",
      "metadata": {
        "id": "N5vReTdMx1mx",
        "colab_type": "code",
        "colab": {}
      },
      "source": [
        "nlist = ['1','94','93','1000']"
      ],
      "execution_count": 0,
      "outputs": []
    },
    {
      "cell_type": "code",
      "metadata": {
        "id": "CjjTCC4tx1m3",
        "colab_type": "code",
        "colab": {
          "base_uri": "https://localhost:8080/",
          "height": 50
        },
        "outputId": "966f3c34-4ab4-416c-818c-6537b682cf43"
      },
      "source": [
        "print (max(nlist))\n",
        "print (min(nlist))"
      ],
      "execution_count": 30,
      "outputs": [
        {
          "output_type": "stream",
          "text": [
            "94\n",
            "1\n"
          ],
          "name": "stdout"
        }
      ]
    },
    {
      "cell_type": "markdown",
      "metadata": {
        "id": "v72G7kWEx1m-",
        "colab_type": "text"
      },
      "source": [
        "Even if the numbers are declared in a string the first index of each element is considered and the maximum and minimum values are returned accordingly."
      ]
    },
    {
      "cell_type": "markdown",
      "metadata": {
        "id": "tloOvlr_x1m_",
        "colab_type": "text"
      },
      "source": [
        "But if you want to find the **max( )** string element based on the length of the string then another parameter 'key=len' is declared inside the **max( )** and **min( )** function."
      ]
    },
    {
      "cell_type": "code",
      "metadata": {
        "id": "p3nGDpzkx1nA",
        "colab_type": "code",
        "colab": {
          "base_uri": "https://localhost:8080/",
          "height": 50
        },
        "outputId": "040bb65c-f902-42a8-97eb-aca73fa2a043"
      },
      "source": [
        "print (max(names, key=len))\n",
        "print (min(names, key=len))"
      ],
      "execution_count": 31,
      "outputs": [
        {
          "output_type": "stream",
          "text": [
            "Earth\n",
            "Air\n"
          ],
          "name": "stdout"
        }
      ]
    },
    {
      "cell_type": "markdown",
      "metadata": {
        "id": "ttay8XC8x1nE",
        "colab_type": "text"
      },
      "source": [
        "But even 'Water' has length 5. **max()** or **min()** function returns the first element when there are two or more elements with the same length.\n",
        "\n",
        "Any other built in function can be used or lambda function (will be discussed later) in place of len.\n",
        "\n",
        "A string can be converted into a list by using the **list()** function."
      ]
    },
    {
      "cell_type": "code",
      "metadata": {
        "id": "zWVFWEDnx1nE",
        "colab_type": "code",
        "colab": {
          "base_uri": "https://localhost:8080/",
          "height": 33
        },
        "outputId": "a357a5bd-a87c-479b-fa98-900a10abc8a5"
      },
      "source": [
        "list('hello')"
      ],
      "execution_count": 32,
      "outputs": [
        {
          "output_type": "execute_result",
          "data": {
            "text/plain": [
              "['h', 'e', 'l', 'l', 'o']"
            ]
          },
          "metadata": {
            "tags": []
          },
          "execution_count": 32
        }
      ]
    },
    {
      "cell_type": "markdown",
      "metadata": {
        "id": "ewHB6zQIx1nM",
        "colab_type": "text"
      },
      "source": [
        "**append( )** is used to add a element at the end of the list."
      ]
    },
    {
      "cell_type": "code",
      "metadata": {
        "id": "salpDY3Zx1nN",
        "colab_type": "code",
        "colab": {}
      },
      "source": [
        "lst = [1,1,4,8,7]"
      ],
      "execution_count": 0,
      "outputs": []
    },
    {
      "cell_type": "code",
      "metadata": {
        "id": "-I-o_zjRx1nT",
        "colab_type": "code",
        "colab": {
          "base_uri": "https://localhost:8080/",
          "height": 33
        },
        "outputId": "0214d8d5-aed1-4bab-87b8-91f91c4c19fa"
      },
      "source": [
        "lst.append(1)\n",
        "print (lst)"
      ],
      "execution_count": 34,
      "outputs": [
        {
          "output_type": "stream",
          "text": [
            "[1, 1, 4, 8, 7, 1]\n"
          ],
          "name": "stdout"
        }
      ]
    },
    {
      "cell_type": "markdown",
      "metadata": {
        "id": "r7qgCV5fx1nd",
        "colab_type": "text"
      },
      "source": [
        "**WARNING:** using append() in loop to append many items is very inefficient! "
      ]
    },
    {
      "cell_type": "markdown",
      "metadata": {
        "id": "02j-Q16Sx1ne",
        "colab_type": "text"
      },
      "source": [
        "**count( )** is used to count the number of a particular element that is present in the list. "
      ]
    },
    {
      "cell_type": "code",
      "metadata": {
        "id": "C_FvSZJOx1nf",
        "colab_type": "code",
        "colab": {
          "base_uri": "https://localhost:8080/",
          "height": 33
        },
        "outputId": "3ae97fa3-91b2-4fd3-8404-908b3a22be7d"
      },
      "source": [
        "lst.count(1)"
      ],
      "execution_count": 35,
      "outputs": [
        {
          "output_type": "execute_result",
          "data": {
            "text/plain": [
              "3"
            ]
          },
          "metadata": {
            "tags": []
          },
          "execution_count": 35
        }
      ]
    },
    {
      "cell_type": "markdown",
      "metadata": {
        "id": "U-m8Ye4ax1nq",
        "colab_type": "text"
      },
      "source": [
        "**append( )** function can also be used to add a entire list at the end. Observe that the resultant list becomes a nested list."
      ]
    },
    {
      "cell_type": "code",
      "metadata": {
        "id": "aHIzwjJ2x1nr",
        "colab_type": "code",
        "colab": {}
      },
      "source": [
        "lst1 = [5,4,2,8]"
      ],
      "execution_count": 0,
      "outputs": []
    },
    {
      "cell_type": "code",
      "metadata": {
        "id": "BCT0qqxqx1nx",
        "colab_type": "code",
        "colab": {
          "base_uri": "https://localhost:8080/",
          "height": 33
        },
        "outputId": "5072423f-a1d0-45b4-9c41-b5a5bfd2c9eb"
      },
      "source": [
        "lst.append(lst1)\n",
        "print (lst)"
      ],
      "execution_count": 37,
      "outputs": [
        {
          "output_type": "stream",
          "text": [
            "[1, 1, 4, 8, 7, 1, [5, 4, 2, 8]]\n"
          ],
          "name": "stdout"
        }
      ]
    },
    {
      "cell_type": "markdown",
      "metadata": {
        "id": "s9IRyrtQx1n8",
        "colab_type": "text"
      },
      "source": [
        "But if nested list is not what is desired then **extend( )** function can be used."
      ]
    },
    {
      "cell_type": "code",
      "metadata": {
        "id": "xyfVJpVxx1n9",
        "colab_type": "code",
        "colab": {
          "base_uri": "https://localhost:8080/",
          "height": 33
        },
        "outputId": "67ce2cac-c515-439a-8d6d-cfb01f110670"
      },
      "source": [
        "lst.extend(lst1)\n",
        "print (lst)"
      ],
      "execution_count": 38,
      "outputs": [
        {
          "output_type": "stream",
          "text": [
            "[1, 1, 4, 8, 7, 1, [5, 4, 2, 8], 5, 4, 2, 8]\n"
          ],
          "name": "stdout"
        }
      ]
    },
    {
      "cell_type": "markdown",
      "metadata": {
        "id": "bSsNWn_wx1oH",
        "colab_type": "text"
      },
      "source": [
        "**index( )** is used to find the index value of a particular element. Note that if there are multiple elements of the same value then the first index value of that element is returned."
      ]
    },
    {
      "cell_type": "code",
      "metadata": {
        "id": "7mBDRLzjx1oI",
        "colab_type": "code",
        "colab": {
          "base_uri": "https://localhost:8080/",
          "height": 33
        },
        "outputId": "ab01ab20-62f2-4462-feac-8a93455b6bff"
      },
      "source": [
        "lst.index(1)"
      ],
      "execution_count": 39,
      "outputs": [
        {
          "output_type": "execute_result",
          "data": {
            "text/plain": [
              "0"
            ]
          },
          "metadata": {
            "tags": []
          },
          "execution_count": 39
        }
      ]
    },
    {
      "cell_type": "markdown",
      "metadata": {
        "id": "V_7Z1_oUx1oN",
        "colab_type": "text"
      },
      "source": [
        "**insert(x,y)** is used to insert a element y at a specified index value x. **append( )** function made it only possible to insert at the end. "
      ]
    },
    {
      "cell_type": "code",
      "metadata": {
        "id": "hSpcMOhDx1oN",
        "colab_type": "code",
        "colab": {
          "base_uri": "https://localhost:8080/",
          "height": 33
        },
        "outputId": "f88441b4-9efa-44d5-9c64-9dfaeff02c5e"
      },
      "source": [
        "lst.insert(5, 'name')\n",
        "print (lst)"
      ],
      "execution_count": 40,
      "outputs": [
        {
          "output_type": "stream",
          "text": [
            "[1, 1, 4, 8, 7, 'name', 1, [5, 4, 2, 8], 5, 4, 2, 8]\n"
          ],
          "name": "stdout"
        }
      ]
    },
    {
      "cell_type": "markdown",
      "metadata": {
        "id": "oyspTrKBx1oZ",
        "colab_type": "text"
      },
      "source": [
        "**insert(x,y)** inserts but does not replace element. If you want to replace the element with another element you simply assign the value to that particular index."
      ]
    },
    {
      "cell_type": "code",
      "metadata": {
        "id": "eioDlAZzx1ob",
        "colab_type": "code",
        "colab": {
          "base_uri": "https://localhost:8080/",
          "height": 33
        },
        "outputId": "eb508d99-5893-433d-8678-2c3777f76e09"
      },
      "source": [
        "lst[5] = 'Python'\n",
        "print (lst)"
      ],
      "execution_count": 41,
      "outputs": [
        {
          "output_type": "stream",
          "text": [
            "[1, 1, 4, 8, 7, 'Python', 1, [5, 4, 2, 8], 5, 4, 2, 8]\n"
          ],
          "name": "stdout"
        }
      ]
    },
    {
      "cell_type": "markdown",
      "metadata": {
        "id": "f4zyoXTEx1ok",
        "colab_type": "text"
      },
      "source": [
        "**pop( )** function return the last element in the list. This is similar to the operation of a stack. Hence it wouldn't be wrong to tell that lists can be used as a stack."
      ]
    },
    {
      "cell_type": "code",
      "metadata": {
        "id": "8U0rWU25x1om",
        "colab_type": "code",
        "colab": {
          "base_uri": "https://localhost:8080/",
          "height": 33
        },
        "outputId": "6aa4fb58-1594-43de-8fe4-311a1324f699"
      },
      "source": [
        "lst.pop()"
      ],
      "execution_count": 42,
      "outputs": [
        {
          "output_type": "execute_result",
          "data": {
            "text/plain": [
              "8"
            ]
          },
          "metadata": {
            "tags": []
          },
          "execution_count": 42
        }
      ]
    },
    {
      "cell_type": "markdown",
      "metadata": {
        "id": "SRSi4v4xx1or",
        "colab_type": "text"
      },
      "source": [
        "Index value can be specified to pop a ceratin element corresponding to that index value."
      ]
    },
    {
      "cell_type": "code",
      "metadata": {
        "id": "waEnG03Bx1ou",
        "colab_type": "code",
        "colab": {
          "base_uri": "https://localhost:8080/",
          "height": 33
        },
        "outputId": "56595653-750c-45b2-9ab1-da657c1d67df"
      },
      "source": [
        "lst.pop(0)"
      ],
      "execution_count": 43,
      "outputs": [
        {
          "output_type": "execute_result",
          "data": {
            "text/plain": [
              "1"
            ]
          },
          "metadata": {
            "tags": []
          },
          "execution_count": 43
        }
      ]
    },
    {
      "cell_type": "markdown",
      "metadata": {
        "id": "VZSAfv_nx1o0",
        "colab_type": "text"
      },
      "source": [
        "**pop( )** is used to remove element based on it's index value which can be assigned to a variable. One can also remove element by specifying the element itself using the **remove( )** function."
      ]
    },
    {
      "cell_type": "code",
      "metadata": {
        "id": "w2tP5Fksx1o3",
        "colab_type": "code",
        "colab": {
          "base_uri": "https://localhost:8080/",
          "height": 33
        },
        "outputId": "820e6097-45c0-420e-b093-aae5e2619357"
      },
      "source": [
        "lst.remove('Python')\n",
        "print (lst)"
      ],
      "execution_count": 44,
      "outputs": [
        {
          "output_type": "stream",
          "text": [
            "[1, 4, 8, 7, 1, [5, 4, 2, 8], 5, 4, 2]\n"
          ],
          "name": "stdout"
        }
      ]
    },
    {
      "cell_type": "markdown",
      "metadata": {
        "id": "RCRjnZhwx1pB",
        "colab_type": "text"
      },
      "source": [
        "Alternative to **remove** function but with using index value is **del**"
      ]
    },
    {
      "cell_type": "code",
      "metadata": {
        "id": "ZAXsBZQVx1pC",
        "colab_type": "code",
        "colab": {
          "base_uri": "https://localhost:8080/",
          "height": 33
        },
        "outputId": "085fb86d-e468-4060-d063-82d4b58d441d"
      },
      "source": [
        "del lst[1]\n",
        "print (lst)"
      ],
      "execution_count": 45,
      "outputs": [
        {
          "output_type": "stream",
          "text": [
            "[1, 8, 7, 1, [5, 4, 2, 8], 5, 4, 2]\n"
          ],
          "name": "stdout"
        }
      ]
    },
    {
      "cell_type": "markdown",
      "metadata": {
        "id": "ljlwvQShx1pG",
        "colab_type": "text"
      },
      "source": [
        "The entire elements present in the list can be reversed by using the **reverse()** function."
      ]
    },
    {
      "cell_type": "code",
      "metadata": {
        "id": "CiTUn5dKx1pH",
        "colab_type": "code",
        "colab": {
          "base_uri": "https://localhost:8080/",
          "height": 33
        },
        "outputId": "f4c52332-76c3-4a05-9ec9-0e7d5b04be31"
      },
      "source": [
        "lst.reverse()\n",
        "print (lst)"
      ],
      "execution_count": 46,
      "outputs": [
        {
          "output_type": "stream",
          "text": [
            "[2, 4, 5, [5, 4, 2, 8], 1, 7, 8, 1]\n"
          ],
          "name": "stdout"
        }
      ]
    },
    {
      "cell_type": "markdown",
      "metadata": {
        "id": "JBmYVlmHx1pL",
        "colab_type": "text"
      },
      "source": [
        "Note that the nested list [5,4,2,8] is treated as a single element of the parent list lst. Thus the elements inside the nested list is not reversed.\n",
        "\n",
        "Python offers built in operation **sort( )** to arrange the elements in ascending order."
      ]
    },
    {
      "cell_type": "code",
      "metadata": {
        "id": "uy4UGBGLx1pL",
        "colab_type": "code",
        "colab": {
          "base_uri": "https://localhost:8080/",
          "height": 33
        },
        "outputId": "cc61abb4-bae2-4592-afe3-5b1bbe0f8541"
      },
      "source": [
        "lst=[1, 8, 7, 1, 5, 4, 2, 8, 5, 4, 2]\n",
        "lst.sort()\n",
        "print (lst)"
      ],
      "execution_count": 47,
      "outputs": [
        {
          "output_type": "stream",
          "text": [
            "[1, 1, 2, 2, 4, 4, 5, 5, 7, 8, 8]\n"
          ],
          "name": "stdout"
        }
      ]
    },
    {
      "cell_type": "markdown",
      "metadata": {
        "id": "TejaBXaEx1pS",
        "colab_type": "text"
      },
      "source": [
        "For descending order, By default the reverse condition will be False for reverse. Hence changing it to True would arrange the elements in descending order."
      ]
    },
    {
      "cell_type": "code",
      "metadata": {
        "id": "tPBG9UfRx1pT",
        "colab_type": "code",
        "colab": {
          "base_uri": "https://localhost:8080/",
          "height": 33
        },
        "outputId": "32c7cc27-fc8c-42f3-89ab-defaeceb1318"
      },
      "source": [
        "lst.sort(reverse=True)\n",
        "print (lst)"
      ],
      "execution_count": 48,
      "outputs": [
        {
          "output_type": "stream",
          "text": [
            "[8, 8, 7, 5, 5, 4, 4, 2, 2, 1, 1]\n"
          ],
          "name": "stdout"
        }
      ]
    },
    {
      "cell_type": "markdown",
      "metadata": {
        "id": "4CaIPxqqx1pc",
        "colab_type": "text"
      },
      "source": [
        "Similarly for lists containing string elements, **sort( )** would sort the elements based on it's ASCII value in ascending and by specifying reverse=True in descending."
      ]
    },
    {
      "cell_type": "code",
      "metadata": {
        "id": "ZOIp9jjVx1pd",
        "colab_type": "code",
        "colab": {
          "base_uri": "https://localhost:8080/",
          "height": 50
        },
        "outputId": "10e1c458-4fa5-4f76-d532-b51603d0cc26"
      },
      "source": [
        "names.sort()\n",
        "print (names)\n",
        "names.sort(reverse=True)\n",
        "print (names)"
      ],
      "execution_count": 49,
      "outputs": [
        {
          "output_type": "stream",
          "text": [
            "['Air', 'Earth', 'Fire', 'Water']\n",
            "['Water', 'Fire', 'Earth', 'Air']\n"
          ],
          "name": "stdout"
        }
      ]
    },
    {
      "cell_type": "markdown",
      "metadata": {
        "id": "WHy6Q_8Tx1pk",
        "colab_type": "text"
      },
      "source": [
        "To sort based on length key=len should be specified as shown."
      ]
    },
    {
      "cell_type": "code",
      "metadata": {
        "id": "XA5VqQiqx1pl",
        "colab_type": "code",
        "colab": {
          "base_uri": "https://localhost:8080/",
          "height": 50
        },
        "outputId": "3139773d-d309-41ad-f854-7aec77a207d0"
      },
      "source": [
        "names.sort(key=len)\n",
        "print (names)\n",
        "names.sort(key=len,reverse=True)\n",
        "print (names)"
      ],
      "execution_count": 50,
      "outputs": [
        {
          "output_type": "stream",
          "text": [
            "['Air', 'Fire', 'Water', 'Earth']\n",
            "['Water', 'Earth', 'Fire', 'Air']\n"
          ],
          "name": "stdout"
        }
      ]
    },
    {
      "cell_type": "markdown",
      "metadata": {
        "id": "ZM9Trw64x1po",
        "colab_type": "text"
      },
      "source": [
        "### Copying a list"
      ]
    },
    {
      "cell_type": "markdown",
      "metadata": {
        "id": "7lTgZde0x1pu",
        "colab_type": "text"
      },
      "source": [
        "Most of the new python programmers commit this mistake. Consider the following,"
      ]
    },
    {
      "cell_type": "code",
      "metadata": {
        "id": "KTqvOUeDx1pu",
        "colab_type": "code",
        "colab": {}
      },
      "source": [
        "lista= [2,1,4,3]"
      ],
      "execution_count": 0,
      "outputs": []
    },
    {
      "cell_type": "code",
      "metadata": {
        "id": "-LyKlaaVx1p2",
        "colab_type": "code",
        "colab": {
          "base_uri": "https://localhost:8080/",
          "height": 33
        },
        "outputId": "922d5d8c-8322-4900-8328-8c370956c144"
      },
      "source": [
        "listb = lista\n",
        "print (listb)"
      ],
      "execution_count": 52,
      "outputs": [
        {
          "output_type": "stream",
          "text": [
            "[2, 1, 4, 3]\n"
          ],
          "name": "stdout"
        }
      ]
    },
    {
      "cell_type": "markdown",
      "metadata": {
        "id": "7aHeEU0ux1p8",
        "colab_type": "text"
      },
      "source": [
        "Here, We have declared a list, lista = [2,1,4,3]. This list is copied to listb by assigning it's value and it get's copied as seen. Now we perform some random operations on lista."
      ]
    },
    {
      "cell_type": "code",
      "metadata": {
        "id": "kUccB9d7x1p9",
        "colab_type": "code",
        "colab": {
          "base_uri": "https://localhost:8080/",
          "height": 50
        },
        "outputId": "207c0f10-fb12-41eb-c3e8-53dd8f156368"
      },
      "source": [
        "lista.pop()\n",
        "print (lista)\n",
        "lista.append(9)\n",
        "print (lista)"
      ],
      "execution_count": 53,
      "outputs": [
        {
          "output_type": "stream",
          "text": [
            "[2, 1, 4]\n",
            "[2, 1, 4, 9]\n"
          ],
          "name": "stdout"
        }
      ]
    },
    {
      "cell_type": "code",
      "metadata": {
        "id": "MXhvxpQax1qB",
        "colab_type": "code",
        "colab": {
          "base_uri": "https://localhost:8080/",
          "height": 33
        },
        "outputId": "4393263a-c908-4120-8666-29c3c2f88a87"
      },
      "source": [
        "print (listb)"
      ],
      "execution_count": 54,
      "outputs": [
        {
          "output_type": "stream",
          "text": [
            "[2, 1, 4, 9]\n"
          ],
          "name": "stdout"
        }
      ]
    },
    {
      "cell_type": "markdown",
      "metadata": {
        "id": "_rDjc6dux1qF",
        "colab_type": "text"
      },
      "source": [
        "listb has also changed though no operation has been performed on it. This is because you have assigned the same memory space of lista to listb. So how do fix this?\n",
        "\n",
        "If you recall, in slicing we had seen that parentlist[a:b] returns a list from parent list with start index a and end index b and if a and b is not mentioned then by default it considers the first and last element. We use the same concept here. By doing so, we are assigning the data of lista to listb as a variable."
      ]
    },
    {
      "cell_type": "code",
      "metadata": {
        "id": "zaKbvN7Zx1qG",
        "colab_type": "code",
        "colab": {}
      },
      "source": [
        "lista = [2,1,4,3]"
      ],
      "execution_count": 0,
      "outputs": []
    },
    {
      "cell_type": "code",
      "metadata": {
        "id": "wtaKaxXgx1qM",
        "colab_type": "code",
        "colab": {
          "base_uri": "https://localhost:8080/",
          "height": 33
        },
        "outputId": "1e85e20d-85e2-42e7-ed65-eabc21111a66"
      },
      "source": [
        "listb = lista[:]\n",
        "print (listb)"
      ],
      "execution_count": 56,
      "outputs": [
        {
          "output_type": "stream",
          "text": [
            "[2, 1, 4, 3]\n"
          ],
          "name": "stdout"
        }
      ]
    },
    {
      "cell_type": "code",
      "metadata": {
        "id": "vMVuYALZx1qR",
        "colab_type": "code",
        "colab": {
          "base_uri": "https://localhost:8080/",
          "height": 50
        },
        "outputId": "f0513c22-9df6-4816-ba05-734daab9f9d8"
      },
      "source": [
        "lista.pop()\n",
        "print (lista)\n",
        "lista.append(9)\n",
        "print (lista)"
      ],
      "execution_count": 57,
      "outputs": [
        {
          "output_type": "stream",
          "text": [
            "[2, 1, 4]\n",
            "[2, 1, 4, 9]\n"
          ],
          "name": "stdout"
        }
      ]
    },
    {
      "cell_type": "code",
      "metadata": {
        "id": "iUFVJ0TTx1qY",
        "colab_type": "code",
        "colab": {
          "base_uri": "https://localhost:8080/",
          "height": 33
        },
        "outputId": "320c0e9e-cbc3-46d5-9f42-76e0407b5adf"
      },
      "source": [
        "print (listb)"
      ],
      "execution_count": 58,
      "outputs": [
        {
          "output_type": "stream",
          "text": [
            "[2, 1, 4, 3]\n"
          ],
          "name": "stdout"
        }
      ]
    },
    {
      "cell_type": "markdown",
      "metadata": {
        "id": "fxorc9hjx1qa",
        "colab_type": "text"
      },
      "source": [
        "## Tuples"
      ]
    },
    {
      "cell_type": "markdown",
      "metadata": {
        "id": "qGpd745ox1qb",
        "colab_type": "text"
      },
      "source": [
        "Tuples are similar to lists but only big difference is the elements inside a list can be changed but in tuple it cannot be changed. Think of tuples as something which has to be True for a particular something and cannot be True for no other values. For better understanding, Recall **divmod()** function."
      ]
    },
    {
      "cell_type": "code",
      "metadata": {
        "id": "66tTnls7x1qb",
        "colab_type": "code",
        "colab": {
          "base_uri": "https://localhost:8080/",
          "height": 50
        },
        "outputId": "cf594289-6027-449f-95f9-3381ea2f809f"
      },
      "source": [
        "xyz = divmod(10,3)\n",
        "print (xyz)\n",
        "print (type(xyz))"
      ],
      "execution_count": 59,
      "outputs": [
        {
          "output_type": "stream",
          "text": [
            "(3, 1)\n",
            "<class 'tuple'>\n"
          ],
          "name": "stdout"
        }
      ]
    },
    {
      "cell_type": "markdown",
      "metadata": {
        "id": "3krzzi2zx1qd",
        "colab_type": "text"
      },
      "source": [
        "Here the quotient has to be 3 and the remainder has to be 1. These values cannot be changed whatsoever when 10 is divided by 3. Hence divmod returns these values in a tuple."
      ]
    },
    {
      "cell_type": "markdown",
      "metadata": {
        "id": "0uq_O1WJx1qe",
        "colab_type": "text"
      },
      "source": [
        "To define a tuple, A variable is assigned to paranthesis ( ) or tuple( )."
      ]
    },
    {
      "cell_type": "code",
      "metadata": {
        "id": "dtSjKFHrx1qe",
        "colab_type": "code",
        "colab": {}
      },
      "source": [
        "tup = ()\n",
        "tup2 = tuple()"
      ],
      "execution_count": 0,
      "outputs": []
    },
    {
      "cell_type": "markdown",
      "metadata": {
        "id": "x0JS0-exx1qg",
        "colab_type": "text"
      },
      "source": [
        "If you want to directly declare a tuple it can be done by using a comma at the end of the data."
      ]
    },
    {
      "cell_type": "code",
      "metadata": {
        "id": "UmVRbug9x1qh",
        "colab_type": "code",
        "colab": {
          "base_uri": "https://localhost:8080/",
          "height": 33
        },
        "outputId": "16c489c1-7c2f-4e9e-e209-070aa36a469f"
      },
      "source": [
        "27,"
      ],
      "execution_count": 61,
      "outputs": [
        {
          "output_type": "execute_result",
          "data": {
            "text/plain": [
              "(27,)"
            ]
          },
          "metadata": {
            "tags": []
          },
          "execution_count": 61
        }
      ]
    },
    {
      "cell_type": "markdown",
      "metadata": {
        "id": "-SH6ylcqx1qk",
        "colab_type": "text"
      },
      "source": [
        "27 when multiplied by 2 yields 54, But when multiplied with a tuple the data is repeated twice."
      ]
    },
    {
      "cell_type": "code",
      "metadata": {
        "id": "uRuZmMHjx1ql",
        "colab_type": "code",
        "colab": {
          "base_uri": "https://localhost:8080/",
          "height": 33
        },
        "outputId": "1876f80e-1314-413a-9c05-1b933c4c6865"
      },
      "source": [
        "2*(27,)"
      ],
      "execution_count": 62,
      "outputs": [
        {
          "output_type": "execute_result",
          "data": {
            "text/plain": [
              "(27, 27)"
            ]
          },
          "metadata": {
            "tags": []
          },
          "execution_count": 62
        }
      ]
    },
    {
      "cell_type": "markdown",
      "metadata": {
        "id": "vaK_7X_Tx1qo",
        "colab_type": "text"
      },
      "source": [
        "Values can be assigned while declaring a tuple. It takes a list as input and converts it into a tuple or it takes a string and converts it into a tuple."
      ]
    },
    {
      "cell_type": "code",
      "metadata": {
        "scrolled": true,
        "id": "hcRwlJSDx1qp",
        "colab_type": "code",
        "colab": {
          "base_uri": "https://localhost:8080/",
          "height": 50
        },
        "outputId": "5d3fae41-2c09-4ba7-facd-d902d8002ca3"
      },
      "source": [
        "tup3 = tuple([1,2,3])\n",
        "print (tup3)\n",
        "tup4 = tuple('Hello')\n",
        "print (tup4)"
      ],
      "execution_count": 63,
      "outputs": [
        {
          "output_type": "stream",
          "text": [
            "(1, 2, 3)\n",
            "('H', 'e', 'l', 'l', 'o')\n"
          ],
          "name": "stdout"
        }
      ]
    },
    {
      "cell_type": "markdown",
      "metadata": {
        "id": "zZOXzmwpx1qr",
        "colab_type": "text"
      },
      "source": [
        "It follows the same indexing and slicing as Lists."
      ]
    },
    {
      "cell_type": "code",
      "metadata": {
        "id": "LlQsF922x1qs",
        "colab_type": "code",
        "colab": {
          "base_uri": "https://localhost:8080/",
          "height": 50
        },
        "outputId": "5e0710a9-b972-4323-ace7-5b8207df562c"
      },
      "source": [
        "print (tup3[1])\n",
        "tup5 = tup4[:3]\n",
        "print (tup5)"
      ],
      "execution_count": 64,
      "outputs": [
        {
          "output_type": "stream",
          "text": [
            "2\n",
            "('H', 'e', 'l')\n"
          ],
          "name": "stdout"
        }
      ]
    },
    {
      "cell_type": "markdown",
      "metadata": {
        "id": "ucT35auKx1qy",
        "colab_type": "text"
      },
      "source": [
        "### Mapping one tuple to another"
      ]
    },
    {
      "cell_type": "code",
      "metadata": {
        "id": "sP3ppB3ox1qy",
        "colab_type": "code",
        "colab": {}
      },
      "source": [
        "(a,b,c)= ('alpha','beta','gamma')"
      ],
      "execution_count": 0,
      "outputs": []
    },
    {
      "cell_type": "code",
      "metadata": {
        "id": "Y03UZkX0x1q6",
        "colab_type": "code",
        "colab": {
          "base_uri": "https://localhost:8080/",
          "height": 33
        },
        "outputId": "d49e223c-700a-4a1f-954a-6954e9e6f7d4"
      },
      "source": [
        "print (a,b,c)"
      ],
      "execution_count": 66,
      "outputs": [
        {
          "output_type": "stream",
          "text": [
            "alpha beta gamma\n"
          ],
          "name": "stdout"
        }
      ]
    },
    {
      "cell_type": "code",
      "metadata": {
        "id": "SBA5-6vBx1q_",
        "colab_type": "code",
        "colab": {
          "base_uri": "https://localhost:8080/",
          "height": 33
        },
        "outputId": "7263aebc-11b2-40c9-9fd4-f733d1b73960"
      },
      "source": [
        "d = tuple('RajathKumarMP')\n",
        "print (d)"
      ],
      "execution_count": 67,
      "outputs": [
        {
          "output_type": "stream",
          "text": [
            "('R', 'a', 'j', 'a', 't', 'h', 'K', 'u', 'm', 'a', 'r', 'M', 'P')\n"
          ],
          "name": "stdout"
        }
      ]
    },
    {
      "cell_type": "markdown",
      "metadata": {
        "id": "rMN8vwkyx1rD",
        "colab_type": "text"
      },
      "source": [
        "### Built In Tuple functions"
      ]
    },
    {
      "cell_type": "markdown",
      "metadata": {
        "id": "JsMpF2i8x1rE",
        "colab_type": "text"
      },
      "source": [
        "**count()** function counts the number of specified element that is present in the tuple."
      ]
    },
    {
      "cell_type": "code",
      "metadata": {
        "id": "E8-OSg6sx1rE",
        "colab_type": "code",
        "colab": {
          "base_uri": "https://localhost:8080/",
          "height": 33
        },
        "outputId": "0f59e4c1-ae4e-45b9-accf-f51be042e4b3"
      },
      "source": [
        "d.count('a')"
      ],
      "execution_count": 68,
      "outputs": [
        {
          "output_type": "execute_result",
          "data": {
            "text/plain": [
              "3"
            ]
          },
          "metadata": {
            "tags": []
          },
          "execution_count": 68
        }
      ]
    },
    {
      "cell_type": "markdown",
      "metadata": {
        "id": "PHjjHdP6x1rG",
        "colab_type": "text"
      },
      "source": [
        "**index()** function returns the index of the specified element. If the elements are more than one then the index of the first element of that specified element is returned"
      ]
    },
    {
      "cell_type": "code",
      "metadata": {
        "id": "GBq1xCJBx1rH",
        "colab_type": "code",
        "colab": {
          "base_uri": "https://localhost:8080/",
          "height": 33
        },
        "outputId": "f309bd3d-8d3f-48af-b332-2ec30f23cb3e"
      },
      "source": [
        "d.index('a')"
      ],
      "execution_count": 69,
      "outputs": [
        {
          "output_type": "execute_result",
          "data": {
            "text/plain": [
              "1"
            ]
          },
          "metadata": {
            "tags": []
          },
          "execution_count": 69
        }
      ]
    },
    {
      "cell_type": "markdown",
      "metadata": {
        "id": "d3yWarNJx1rK",
        "colab_type": "text"
      },
      "source": [
        "## Sets"
      ]
    },
    {
      "cell_type": "markdown",
      "metadata": {
        "id": "7PF0SEhQx1rK",
        "colab_type": "text"
      },
      "source": [
        "Sets are mainly used to eliminate repeated numbers in a sequence/list. It is also used to perform some standard set operations.\n",
        "\n",
        "Sets are declared as set() which will initialize a empty set. Also set([sequence]) can be executed to declare a set with elements"
      ]
    },
    {
      "cell_type": "code",
      "metadata": {
        "id": "EvIM3yoZx1rK",
        "colab_type": "code",
        "colab": {
          "base_uri": "https://localhost:8080/",
          "height": 33
        },
        "outputId": "d0e00401-fba7-496f-b1b6-4762e6eb00cc"
      },
      "source": [
        "set1 = set()\n",
        "print (type(set1))"
      ],
      "execution_count": 70,
      "outputs": [
        {
          "output_type": "stream",
          "text": [
            "<class 'set'>\n"
          ],
          "name": "stdout"
        }
      ]
    },
    {
      "cell_type": "code",
      "metadata": {
        "id": "m8UoN2nmx1rO",
        "colab_type": "code",
        "colab": {
          "base_uri": "https://localhost:8080/",
          "height": 33
        },
        "outputId": "56a77c20-a3e5-4d5c-d70a-f5d535c95d43"
      },
      "source": [
        "set0 = set([1,2,2,3,3,4])\n",
        "print (set0)"
      ],
      "execution_count": 71,
      "outputs": [
        {
          "output_type": "stream",
          "text": [
            "{1, 2, 3, 4}\n"
          ],
          "name": "stdout"
        }
      ]
    },
    {
      "cell_type": "markdown",
      "metadata": {
        "id": "pa1l3ndwx1rS",
        "colab_type": "text"
      },
      "source": [
        "elements 2,3 which are repeated twice are seen only once. Thus in a set each element is distinct."
      ]
    },
    {
      "cell_type": "markdown",
      "metadata": {
        "id": "8Vcl0qB1x1rT",
        "colab_type": "text"
      },
      "source": [
        "### Built-in Functions"
      ]
    },
    {
      "cell_type": "code",
      "metadata": {
        "id": "p-hiD-pCx1rT",
        "colab_type": "code",
        "colab": {}
      },
      "source": [
        "set1 = set([1,2,3])"
      ],
      "execution_count": 0,
      "outputs": []
    },
    {
      "cell_type": "code",
      "metadata": {
        "id": "Bolid-dJx1rX",
        "colab_type": "code",
        "colab": {}
      },
      "source": [
        "set2 = set([2,3,4,5])"
      ],
      "execution_count": 0,
      "outputs": []
    },
    {
      "cell_type": "markdown",
      "metadata": {
        "id": "eOglNh3Ox1rj",
        "colab_type": "text"
      },
      "source": [
        "**union( )** function returns a set which contains all the elements of both the sets without repition."
      ]
    },
    {
      "cell_type": "code",
      "metadata": {
        "id": "SnAzgoMKx1rj",
        "colab_type": "code",
        "colab": {
          "base_uri": "https://localhost:8080/",
          "height": 33
        },
        "outputId": "da4c4e45-5396-4b12-fa48-85548d48e8bd"
      },
      "source": [
        "set1.union(set2)"
      ],
      "execution_count": 74,
      "outputs": [
        {
          "output_type": "execute_result",
          "data": {
            "text/plain": [
              "{1, 2, 3, 4, 5}"
            ]
          },
          "metadata": {
            "tags": []
          },
          "execution_count": 74
        }
      ]
    },
    {
      "cell_type": "markdown",
      "metadata": {
        "id": "OYpFxHd9x1rp",
        "colab_type": "text"
      },
      "source": [
        "**add( )** will add a particular element into the set. Note that the index of the newly added element is arbitrary and can be placed anywhere not neccessarily in the end."
      ]
    },
    {
      "cell_type": "code",
      "metadata": {
        "id": "BAqL02ePx1rr",
        "colab_type": "code",
        "colab": {
          "base_uri": "https://localhost:8080/",
          "height": 33
        },
        "outputId": "96e372f6-38ec-4cea-f386-e6f6d2565f0b"
      },
      "source": [
        "set1.add(0)\n",
        "set1"
      ],
      "execution_count": 75,
      "outputs": [
        {
          "output_type": "execute_result",
          "data": {
            "text/plain": [
              "{0, 1, 2, 3}"
            ]
          },
          "metadata": {
            "tags": []
          },
          "execution_count": 75
        }
      ]
    },
    {
      "cell_type": "markdown",
      "metadata": {
        "id": "4aVksnILx1ru",
        "colab_type": "text"
      },
      "source": [
        "**intersection( )** function outputs a set which contains all the elements that are in both sets."
      ]
    },
    {
      "cell_type": "code",
      "metadata": {
        "id": "uwHKVSW9x1rv",
        "colab_type": "code",
        "colab": {
          "base_uri": "https://localhost:8080/",
          "height": 33
        },
        "outputId": "c4d31216-2300-42de-f9c5-35791304a0d3"
      },
      "source": [
        "set1.intersection(set2)"
      ],
      "execution_count": 76,
      "outputs": [
        {
          "output_type": "execute_result",
          "data": {
            "text/plain": [
              "{2, 3}"
            ]
          },
          "metadata": {
            "tags": []
          },
          "execution_count": 76
        }
      ]
    },
    {
      "cell_type": "markdown",
      "metadata": {
        "id": "duTg-Fjnx1r3",
        "colab_type": "text"
      },
      "source": [
        "**difference( )** function ouptuts a set which contains elements that are in set1 and not in set2."
      ]
    },
    {
      "cell_type": "code",
      "metadata": {
        "id": "88941VN7x1r4",
        "colab_type": "code",
        "colab": {
          "base_uri": "https://localhost:8080/",
          "height": 33
        },
        "outputId": "527cd1a8-8c11-432a-b339-5894204c6196"
      },
      "source": [
        "set1.difference(set2)"
      ],
      "execution_count": 77,
      "outputs": [
        {
          "output_type": "execute_result",
          "data": {
            "text/plain": [
              "{0, 1}"
            ]
          },
          "metadata": {
            "tags": []
          },
          "execution_count": 77
        }
      ]
    },
    {
      "cell_type": "markdown",
      "metadata": {
        "id": "UsqDlNn_x1r7",
        "colab_type": "text"
      },
      "source": [
        "**symmetric_difference( )** function ouputs a function which contains elements that are in one of the sets."
      ]
    },
    {
      "cell_type": "code",
      "metadata": {
        "id": "HR6DbokTx1r8",
        "colab_type": "code",
        "colab": {
          "base_uri": "https://localhost:8080/",
          "height": 33
        },
        "outputId": "49d7995b-4e12-4961-a889-0d680b625723"
      },
      "source": [
        "set2.symmetric_difference(set1)"
      ],
      "execution_count": 78,
      "outputs": [
        {
          "output_type": "execute_result",
          "data": {
            "text/plain": [
              "{0, 1, 4, 5}"
            ]
          },
          "metadata": {
            "tags": []
          },
          "execution_count": 78
        }
      ]
    },
    {
      "cell_type": "markdown",
      "metadata": {
        "id": "ZtSDH4Evx1r_",
        "colab_type": "text"
      },
      "source": [
        "**issubset( ), isdisjoint( ), issuperset( )** is used to check if the set1/set2 is a subset, disjoint or superset of set2/set1 respectively."
      ]
    },
    {
      "cell_type": "code",
      "metadata": {
        "id": "i4jbfEkYx1sA",
        "colab_type": "code",
        "colab": {
          "base_uri": "https://localhost:8080/",
          "height": 33
        },
        "outputId": "224a0b02-dfcf-4ce3-87c4-e9bdb7a49d24"
      },
      "source": [
        "set1.issubset(set2)"
      ],
      "execution_count": 79,
      "outputs": [
        {
          "output_type": "execute_result",
          "data": {
            "text/plain": [
              "False"
            ]
          },
          "metadata": {
            "tags": []
          },
          "execution_count": 79
        }
      ]
    },
    {
      "cell_type": "code",
      "metadata": {
        "id": "suH_izg4x1sC",
        "colab_type": "code",
        "colab": {
          "base_uri": "https://localhost:8080/",
          "height": 33
        },
        "outputId": "dfe01530-d0db-4703-f38e-5c75c6fd26fb"
      },
      "source": [
        "set2.isdisjoint(set1)"
      ],
      "execution_count": 80,
      "outputs": [
        {
          "output_type": "execute_result",
          "data": {
            "text/plain": [
              "False"
            ]
          },
          "metadata": {
            "tags": []
          },
          "execution_count": 80
        }
      ]
    },
    {
      "cell_type": "code",
      "metadata": {
        "id": "gHkof3_8x1sF",
        "colab_type": "code",
        "colab": {
          "base_uri": "https://localhost:8080/",
          "height": 33
        },
        "outputId": "7c6a29eb-fb77-406d-cb1a-a35921044a97"
      },
      "source": [
        "set2.issuperset(set1)"
      ],
      "execution_count": 81,
      "outputs": [
        {
          "output_type": "execute_result",
          "data": {
            "text/plain": [
              "False"
            ]
          },
          "metadata": {
            "tags": []
          },
          "execution_count": 81
        }
      ]
    },
    {
      "cell_type": "markdown",
      "metadata": {
        "id": "Nm9s6nz7x1sK",
        "colab_type": "text"
      },
      "source": [
        "**pop( )** is used to remove an arbitrary element in the set"
      ]
    },
    {
      "cell_type": "code",
      "metadata": {
        "id": "v1y0n0fUx1sL",
        "colab_type": "code",
        "colab": {
          "base_uri": "https://localhost:8080/",
          "height": 33
        },
        "outputId": "019eb33d-8b11-4d4b-87f5-992aa61b5069"
      },
      "source": [
        "set1.pop()\n",
        "print (set1)"
      ],
      "execution_count": 82,
      "outputs": [
        {
          "output_type": "stream",
          "text": [
            "{1, 2, 3}\n"
          ],
          "name": "stdout"
        }
      ]
    },
    {
      "cell_type": "markdown",
      "metadata": {
        "id": "BjANANT3x1sO",
        "colab_type": "text"
      },
      "source": [
        "**remove( )** function deletes the specified element from the set."
      ]
    },
    {
      "cell_type": "code",
      "metadata": {
        "id": "EM16GLjjx1sO",
        "colab_type": "code",
        "colab": {
          "base_uri": "https://localhost:8080/",
          "height": 33
        },
        "outputId": "95152c51-8047-400f-f905-803962c0d9e5"
      },
      "source": [
        "set1.remove(2)\n",
        "set1"
      ],
      "execution_count": 83,
      "outputs": [
        {
          "output_type": "execute_result",
          "data": {
            "text/plain": [
              "{1, 3}"
            ]
          },
          "metadata": {
            "tags": []
          },
          "execution_count": 83
        }
      ]
    },
    {
      "cell_type": "markdown",
      "metadata": {
        "id": "Ik1aJasmx1sR",
        "colab_type": "text"
      },
      "source": [
        "**clear( )** is used to clear all the elements and make that set an empty set."
      ]
    },
    {
      "cell_type": "code",
      "metadata": {
        "id": "48ayYKzTx1sR",
        "colab_type": "code",
        "colab": {
          "base_uri": "https://localhost:8080/",
          "height": 33
        },
        "outputId": "7f987c28-dbaf-460a-d1f9-a331711c4143"
      },
      "source": [
        "set1.clear()\n",
        "set1"
      ],
      "execution_count": 84,
      "outputs": [
        {
          "output_type": "execute_result",
          "data": {
            "text/plain": [
              "set()"
            ]
          },
          "metadata": {
            "tags": []
          },
          "execution_count": 84
        }
      ]
    },
    {
      "cell_type": "code",
      "metadata": {
        "id": "5EeWlqpex1sU",
        "colab_type": "code",
        "colab": {}
      },
      "source": [
        ""
      ],
      "execution_count": 0,
      "outputs": []
    }
  ]
}