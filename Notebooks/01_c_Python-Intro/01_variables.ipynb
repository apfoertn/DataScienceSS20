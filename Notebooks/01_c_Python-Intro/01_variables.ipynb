{
  "nbformat": 4,
  "nbformat_minor": 0,
  "metadata": {
    "kernelspec": {
      "display_name": "Python 3",
      "language": "python",
      "name": "python3"
    },
    "language_info": {
      "codemirror_mode": {
        "name": "ipython",
        "version": 3
      },
      "file_extension": ".py",
      "mimetype": "text/x-python",
      "name": "python",
      "nbconvert_exporter": "python",
      "pygments_lexer": "ipython3",
      "version": "3.7.1"
    },
    "colab": {
      "name": "01_variables.ipynb",
      "provenance": []
    }
  },
  "cells": [
    {
      "cell_type": "markdown",
      "metadata": {
        "id": "H4SoGEMptudP",
        "colab_type": "text"
      },
      "source": [
        "# Introduction to Python I - Variables\n",
        "* Based on a lecture series by Rajath Kumart (https://github.com/rajathkumarmp/Python-Lectures)\n",
        "* Ported to Python3 and extessions added by Janis Keuper\n",
        "* Copyright: Creative Commons Attribution 3.0 Unported License. To view a copy of this license, visit http://creativecommons.org/licenses/by/3.0/"
      ]
    },
    {
      "cell_type": "code",
      "metadata": {
        "id": "bZxeGtKjtudS",
        "colab_type": "code",
        "colab": {
          "base_uri": "https://localhost:8080/",
          "height": 117
        },
        "outputId": "c365d293-637e-4b02-d7d8-4d6991377c00"
      },
      "source": [
        "#check if notebook runs in colab\n",
        "import sys\n",
        "IN_COLAB = 'google.colab' in sys.modules\n",
        "print('running in Colab:',IN_COLAB)\n",
        "path='..'\n",
        "if IN_COLAB:\n",
        "  #in colab, we need to clone the data from the repo\n",
        "  !git clone https://github.com/keuperj/DataScienceSS20.git\n",
        "  path='DataScienceSS20'"
      ],
      "execution_count": 1,
      "outputs": [
        {
          "output_type": "stream",
          "text": [
            "running in Colab: True\n",
            "Cloning into 'DataScienceSS20'...\n",
            "remote: Enumerating objects: 248, done.\u001b[K\n",
            "remote: Total 248 (delta 0), reused 0 (delta 0), pack-reused 248\u001b[K\n",
            "Receiving objects: 100% (248/248), 45.43 MiB | 21.43 MiB/s, done.\n",
            "Resolving deltas: 100% (85/85), done.\n"
          ],
          "name": "stdout"
        }
      ]
    },
    {
      "cell_type": "markdown",
      "metadata": {
        "id": "QgBc32dftude",
        "colab_type": "text"
      },
      "source": [
        "## The Zen Of Python"
      ]
    },
    {
      "cell_type": "code",
      "metadata": {
        "id": "jd4L9mnotudf",
        "colab_type": "code",
        "colab": {}
      },
      "source": [
        "import this"
      ],
      "execution_count": 0,
      "outputs": []
    },
    {
      "cell_type": "markdown",
      "metadata": {
        "id": "7E6tU3ditudk",
        "colab_type": "text"
      },
      "source": [
        "## The Very Basics"
      ]
    },
    {
      "cell_type": "markdown",
      "metadata": {
        "id": "Z8XVWUOWtudl",
        "colab_type": "text"
      },
      "source": [
        "### Comments:"
      ]
    },
    {
      "cell_type": "code",
      "metadata": {
        "id": "GX3X3jjOtudm",
        "colab_type": "code",
        "colab": {}
      },
      "source": [
        "# this is a comment"
      ],
      "execution_count": 0,
      "outputs": []
    },
    {
      "cell_type": "markdown",
      "metadata": {
        "id": "QK20bx6ztudt",
        "colab_type": "text"
      },
      "source": [
        "### Spaces\n",
        "***Python is indent sensitive!!!***\n"
      ]
    },
    {
      "cell_type": "code",
      "metadata": {
        "id": "fvT8EOUZtudu",
        "colab_type": "code",
        "colab": {
          "base_uri": "https://localhost:8080/",
          "height": 128
        },
        "outputId": "24344e56-74d5-417c-cfa5-3b4ce4531f1d"
      },
      "source": [
        "\n",
        "print (\"hello\")\n",
        "  print (\"this does not work\")"
      ],
      "execution_count": 7,
      "outputs": [
        {
          "output_type": "error",
          "ename": "IndentationError",
          "evalue": "ignored",
          "traceback": [
            "\u001b[0;36m  File \u001b[0;32m\"<ipython-input-8-43f4a1277027>\"\u001b[0;36m, line \u001b[0;32m3\u001b[0m\n\u001b[0;31m    print (\"this does not work\")\u001b[0m\n\u001b[0m    ^\u001b[0m\n\u001b[0;31mIndentationError\u001b[0m\u001b[0;31m:\u001b[0m unexpected indent\n"
          ]
        }
      ]
    },
    {
      "cell_type": "code",
      "metadata": {
        "id": "8u53wUMAtudz",
        "colab_type": "code",
        "colab": {
          "base_uri": "https://localhost:8080/",
          "height": 100
        },
        "outputId": "d61adbcd-ed71-452e-b510-ea24104b3b30"
      },
      "source": [
        "for i in range(5):\n",
        "    print (\"this is a correct indent\")"
      ],
      "execution_count": 8,
      "outputs": [
        {
          "output_type": "stream",
          "text": [
            "this is a correct indent\n",
            "this is a correct indent\n",
            "this is a correct indent\n",
            "this is a correct indent\n",
            "this is a correct indent\n"
          ],
          "name": "stdout"
        }
      ]
    },
    {
      "cell_type": "code",
      "metadata": {
        "id": "YnYZd0hwtud7",
        "colab_type": "code",
        "colab": {
          "base_uri": "https://localhost:8080/",
          "height": 128
        },
        "outputId": "deafc6eb-6616-4ef3-bf8f-122ba8c054a5"
      },
      "source": [
        "for i in range(5):\n",
        "print (\"this is NOT a correct indent\")"
      ],
      "execution_count": 8,
      "outputs": [
        {
          "output_type": "error",
          "ename": "IndentationError",
          "evalue": "ignored",
          "traceback": [
            "\u001b[0;36m  File \u001b[0;32m\"<ipython-input-9-214533c11ede>\"\u001b[0;36m, line \u001b[0;32m2\u001b[0m\n\u001b[0;31m    print (\"this is NOT a correct indent\")\u001b[0m\n\u001b[0m        ^\u001b[0m\n\u001b[0;31mIndentationError\u001b[0m\u001b[0;31m:\u001b[0m expected an indented block\n"
          ]
        }
      ]
    },
    {
      "cell_type": "markdown",
      "metadata": {
        "id": "tLwtg2bYtueD",
        "colab_type": "text"
      },
      "source": [
        "**NOTE: you should set your editor to convert <tab> into 4 Spaces**\n",
        "    \n",
        "Python Coding Conventions: https://www.python.org/dev/peps/pep-0008/"
      ]
    },
    {
      "cell_type": "markdown",
      "metadata": {
        "id": "XaPj5KYktueE",
        "colab_type": "text"
      },
      "source": [
        "# Variables"
      ]
    },
    {
      "cell_type": "markdown",
      "metadata": {
        "id": "KtJVoMgAtueG",
        "colab_type": "text"
      },
      "source": [
        "A name that is used to denote something or a value is called a variable. **Important:** Python has no strong typing, e.g. variables can change their type within a script. In python, variables can be declared and values can be assigned to it as follows,"
      ]
    },
    {
      "cell_type": "code",
      "metadata": {
        "id": "tc_W--GetueI",
        "colab_type": "code",
        "colab": {}
      },
      "source": [
        "x = 2\n",
        "y = 5\n",
        "xy = 'Hey'"
      ],
      "execution_count": 0,
      "outputs": []
    },
    {
      "cell_type": "code",
      "metadata": {
        "id": "_AHdb3XwtueP",
        "colab_type": "code",
        "colab": {
          "base_uri": "https://localhost:8080/",
          "height": 33
        },
        "outputId": "fdc66d74-cb0b-4bbe-c740-9afce882991a"
      },
      "source": [
        "print (x+y, xy)"
      ],
      "execution_count": 12,
      "outputs": [
        {
          "output_type": "stream",
          "text": [
            "7 Hey\n"
          ],
          "name": "stdout"
        }
      ]
    },
    {
      "cell_type": "markdown",
      "metadata": {
        "id": "yiqemQibtueX",
        "colab_type": "text"
      },
      "source": [
        "Multiple variables can be assigned with the same value."
      ]
    },
    {
      "cell_type": "code",
      "metadata": {
        "id": "cthO5pBctueY",
        "colab_type": "code",
        "colab": {}
      },
      "source": [
        "x = y = 1"
      ],
      "execution_count": 0,
      "outputs": []
    },
    {
      "cell_type": "code",
      "metadata": {
        "id": "y1p-ni8stuel",
        "colab_type": "code",
        "colab": {
          "base_uri": "https://localhost:8080/",
          "height": 33
        },
        "outputId": "bab9c7da-2042-4e98-da2e-dd8028ffdea1"
      },
      "source": [
        "print (x,y)"
      ],
      "execution_count": 14,
      "outputs": [
        {
          "output_type": "stream",
          "text": [
            "1 1\n"
          ],
          "name": "stdout"
        }
      ]
    },
    {
      "cell_type": "markdown",
      "metadata": {
        "id": "NRTI2ErKtues",
        "colab_type": "text"
      },
      "source": [
        "Weak typing example:"
      ]
    },
    {
      "cell_type": "code",
      "metadata": {
        "id": "3icdp8o0tueu",
        "colab_type": "code",
        "colab": {
          "base_uri": "https://localhost:8080/",
          "height": 50
        },
        "outputId": "5c9bbc64-ccf6-4c2e-dcc9-d485d1c023b1"
      },
      "source": [
        "a = 1\n",
        "a += 1\n",
        "print (a)\n",
        "a = \"hello\"\n",
        "print (a)"
      ],
      "execution_count": 15,
      "outputs": [
        {
          "output_type": "stream",
          "text": [
            "2\n",
            "hello\n"
          ],
          "name": "stdout"
        }
      ]
    },
    {
      "cell_type": "code",
      "metadata": {
        "id": "p_0jTCnztue1",
        "colab_type": "code",
        "colab": {
          "base_uri": "https://localhost:8080/",
          "height": 162
        },
        "outputId": "c2eb4743-08d3-469a-fafa-eb5ec5288141"
      },
      "source": [
        "a+=1"
      ],
      "execution_count": 17,
      "outputs": [
        {
          "output_type": "error",
          "ename": "TypeError",
          "evalue": "ignored",
          "traceback": [
            "\u001b[0;31m---------------------------------------------------------------------------\u001b[0m",
            "\u001b[0;31mTypeError\u001b[0m                                 Traceback (most recent call last)",
            "\u001b[0;32m<ipython-input-17-b3f06b97a172>\u001b[0m in \u001b[0;36m<module>\u001b[0;34m()\u001b[0m\n\u001b[0;32m----> 1\u001b[0;31m \u001b[0ma\u001b[0m\u001b[0;34m+=\u001b[0m\u001b[0;36m1\u001b[0m\u001b[0;34m\u001b[0m\u001b[0;34m\u001b[0m\u001b[0m\n\u001b[0m",
            "\u001b[0;31mTypeError\u001b[0m: must be str, not int"
          ]
        }
      ]
    },
    {
      "cell_type": "markdown",
      "metadata": {
        "id": "zl4D2HT6tue8",
        "colab_type": "text"
      },
      "source": [
        "### Checking variable types:\n"
      ]
    },
    {
      "cell_type": "code",
      "metadata": {
        "id": "FGRFPOwTtue-",
        "colab_type": "code",
        "colab": {},
        "outputId": "c4281949-8724-4e08-f65e-bee8a6fad148"
      },
      "source": [
        "type(a)"
      ],
      "execution_count": 0,
      "outputs": [
        {
          "output_type": "execute_result",
          "data": {
            "text/plain": [
              "str"
            ]
          },
          "metadata": {
            "tags": []
          },
          "execution_count": 12
        }
      ]
    },
    {
      "cell_type": "markdown",
      "metadata": {
        "id": "Bxy4FyuitufE",
        "colab_type": "text"
      },
      "source": [
        "### Type casting:"
      ]
    },
    {
      "cell_type": "code",
      "metadata": {
        "id": "uz-LClGBtufF",
        "colab_type": "code",
        "colab": {},
        "outputId": "1ff787fc-32e8-4e87-91a2-469c6022662e"
      },
      "source": [
        "str(1)"
      ],
      "execution_count": 0,
      "outputs": [
        {
          "output_type": "execute_result",
          "data": {
            "text/plain": [
              "'1'"
            ]
          },
          "metadata": {
            "tags": []
          },
          "execution_count": 13
        }
      ]
    },
    {
      "cell_type": "code",
      "metadata": {
        "id": "iMNbJr17tufK",
        "colab_type": "code",
        "colab": {},
        "outputId": "46251e68-1e62-4ac1-aa04-59d49e12a30b"
      },
      "source": [
        "int('34')+5"
      ],
      "execution_count": 0,
      "outputs": [
        {
          "output_type": "execute_result",
          "data": {
            "text/plain": [
              "39"
            ]
          },
          "metadata": {
            "tags": []
          },
          "execution_count": 14
        }
      ]
    },
    {
      "cell_type": "markdown",
      "metadata": {
        "id": "WmJk_0kqtufT",
        "colab_type": "text"
      },
      "source": [
        "# Operators"
      ]
    },
    {
      "cell_type": "markdown",
      "metadata": {
        "id": "IupET3cZtufU",
        "colab_type": "text"
      },
      "source": [
        "## Arithmetic Operators"
      ]
    },
    {
      "cell_type": "markdown",
      "metadata": {
        "id": "T7ISth0otufU",
        "colab_type": "text"
      },
      "source": [
        "| Symbol | Task Performed |\n",
        "|----|---|\n",
        "| +  | Addition |\n",
        "| -  | Subtraction |\n",
        "| /  | division |\n",
        "| %  | mod |\n",
        "| *  | multiplication |\n",
        "| //  | floor division |\n",
        "| **  | to the power of |"
      ]
    },
    {
      "cell_type": "code",
      "metadata": {
        "id": "1jGfUW4ntufV",
        "colab_type": "code",
        "colab": {},
        "outputId": "e951b164-7dae-4ead-ea41-f3a5b257702f"
      },
      "source": [
        "1+2"
      ],
      "execution_count": 0,
      "outputs": [
        {
          "output_type": "execute_result",
          "data": {
            "text/plain": [
              "3"
            ]
          },
          "metadata": {
            "tags": []
          },
          "execution_count": 15
        }
      ]
    },
    {
      "cell_type": "code",
      "metadata": {
        "id": "Uk6fXxpVtufd",
        "colab_type": "code",
        "colab": {},
        "outputId": "d8541250-ce92-45fb-e3fc-e0da1913e1bd"
      },
      "source": [
        "2-1"
      ],
      "execution_count": 0,
      "outputs": [
        {
          "output_type": "execute_result",
          "data": {
            "text/plain": [
              "1"
            ]
          },
          "metadata": {
            "tags": []
          },
          "execution_count": 16
        }
      ]
    },
    {
      "cell_type": "code",
      "metadata": {
        "id": "nyc4fouFtufh",
        "colab_type": "code",
        "colab": {
          "base_uri": "https://localhost:8080/",
          "height": 33
        },
        "outputId": "fadf2745-0842-4a6d-e26d-b340b796e510"
      },
      "source": [
        "1*2"
      ],
      "execution_count": 18,
      "outputs": [
        {
          "output_type": "execute_result",
          "data": {
            "text/plain": [
              "2"
            ]
          },
          "metadata": {
            "tags": []
          },
          "execution_count": 18
        }
      ]
    },
    {
      "cell_type": "code",
      "metadata": {
        "id": "71clAZXgtufk",
        "colab_type": "code",
        "colab": {
          "base_uri": "https://localhost:8080/",
          "height": 33
        },
        "outputId": "62c00fdf-c4d9-46d6-9ae8-e61c72915c0c"
      },
      "source": [
        "1/2"
      ],
      "execution_count": 21,
      "outputs": [
        {
          "output_type": "execute_result",
          "data": {
            "text/plain": [
              "0.5"
            ]
          },
          "metadata": {
            "tags": []
          },
          "execution_count": 21
        }
      ]
    },
    {
      "cell_type": "markdown",
      "metadata": {
        "id": "Xjw24Utqtufn",
        "colab_type": "text"
      },
      "source": [
        "0? This is because both the numerator and denominator are integers but the result is a float value hence an integer value is returned. By changing either the numerator or the denominator to float, correct answer can be obtained."
      ]
    },
    {
      "cell_type": "code",
      "metadata": {
        "id": "xkKhy16ntufo",
        "colab_type": "code",
        "colab": {
          "base_uri": "https://localhost:8080/",
          "height": 33
        },
        "outputId": "cd8a3115-842e-4a15-8278-70962d283cfa"
      },
      "source": [
        "1/2.0"
      ],
      "execution_count": 20,
      "outputs": [
        {
          "output_type": "execute_result",
          "data": {
            "text/plain": [
              "0.5"
            ]
          },
          "metadata": {
            "tags": []
          },
          "execution_count": 20
        }
      ]
    },
    {
      "cell_type": "code",
      "metadata": {
        "id": "4ckBI4j-tufr",
        "colab_type": "code",
        "colab": {
          "base_uri": "https://localhost:8080/",
          "height": 33
        },
        "outputId": "415c5f4d-5e4c-4f4b-b422-eeeaa75bf92c"
      },
      "source": [
        "15%10"
      ],
      "execution_count": 22,
      "outputs": [
        {
          "output_type": "execute_result",
          "data": {
            "text/plain": [
              "5"
            ]
          },
          "metadata": {
            "tags": []
          },
          "execution_count": 22
        }
      ]
    },
    {
      "cell_type": "markdown",
      "metadata": {
        "id": "G7XaKkLJtufv",
        "colab_type": "text"
      },
      "source": [
        "Floor division is nothing but converting the result so obtained to the nearest integer."
      ]
    },
    {
      "cell_type": "code",
      "metadata": {
        "id": "C-UKnIXctufw",
        "colab_type": "code",
        "colab": {},
        "outputId": "e05acb4b-5bf4-483e-c9c1-49d9ba3e04dd"
      },
      "source": [
        "2.8//2.0"
      ],
      "execution_count": 0,
      "outputs": [
        {
          "output_type": "execute_result",
          "data": {
            "text/plain": [
              "1.0"
            ]
          },
          "metadata": {
            "tags": []
          },
          "execution_count": 21
        }
      ]
    },
    {
      "cell_type": "markdown",
      "metadata": {
        "id": "HHMBDzgBtufz",
        "colab_type": "text"
      },
      "source": [
        "## Relational Operators"
      ]
    },
    {
      "cell_type": "markdown",
      "metadata": {
        "id": "0rAF6mpJtuf0",
        "colab_type": "text"
      },
      "source": [
        "| Symbol | Task Performed |\n",
        "|----|---|\n",
        "| == | True, if it is equal |\n",
        "| !=  | True, if not equal to |\n",
        "| < | less than |\n",
        "| > | greater than |\n",
        "| <=  | less than or equal to |\n",
        "| >=  | greater than or equal to |"
      ]
    },
    {
      "cell_type": "code",
      "metadata": {
        "id": "k1vM5VtMtuf1",
        "colab_type": "code",
        "colab": {}
      },
      "source": [
        "z = 1"
      ],
      "execution_count": 0,
      "outputs": []
    },
    {
      "cell_type": "code",
      "metadata": {
        "id": "VeXuOzuttuf5",
        "colab_type": "code",
        "colab": {
          "base_uri": "https://localhost:8080/",
          "height": 33
        },
        "outputId": "c8d20f69-434a-4814-95c1-b3e218a735bf"
      },
      "source": [
        "z == 1"
      ],
      "execution_count": 24,
      "outputs": [
        {
          "output_type": "execute_result",
          "data": {
            "text/plain": [
              "True"
            ]
          },
          "metadata": {
            "tags": []
          },
          "execution_count": 24
        }
      ]
    },
    {
      "cell_type": "code",
      "metadata": {
        "id": "Syw3xjBPtuf9",
        "colab_type": "code",
        "colab": {
          "base_uri": "https://localhost:8080/",
          "height": 33
        },
        "outputId": "d7eec312-29a3-4d9f-e13b-16c5a1bb12b9"
      },
      "source": [
        "z > 1"
      ],
      "execution_count": 25,
      "outputs": [
        {
          "output_type": "execute_result",
          "data": {
            "text/plain": [
              "False"
            ]
          },
          "metadata": {
            "tags": []
          },
          "execution_count": 25
        }
      ]
    },
    {
      "cell_type": "markdown",
      "metadata": {
        "id": "AhfmjxETtugE",
        "colab_type": "text"
      },
      "source": [
        "## Bitwise Operators"
      ]
    },
    {
      "cell_type": "markdown",
      "metadata": {
        "id": "E1_lXf4ztugF",
        "colab_type": "text"
      },
      "source": [
        "| Symbol | Task Performed |\n",
        "|----|---|\n",
        "| &  | Logical And |\n",
        "| l  | Logical OR |\n",
        "| ^  | XOR |\n",
        "| ~  | Negate |\n",
        "| >>  | Right shift |\n",
        "| <<  | Left shift |"
      ]
    },
    {
      "cell_type": "code",
      "metadata": {
        "id": "s7zPs_QEtugG",
        "colab_type": "code",
        "colab": {}
      },
      "source": [
        "a = 2 #10\n",
        "b = 3 #11"
      ],
      "execution_count": 0,
      "outputs": []
    },
    {
      "cell_type": "code",
      "metadata": {
        "id": "jjUWdqW4tugP",
        "colab_type": "code",
        "colab": {},
        "outputId": "8d210956-c462-4bdd-9662-ef8fa0b56846"
      },
      "source": [
        "print (a & b)\n",
        "print (bin(a&b))"
      ],
      "execution_count": 0,
      "outputs": [
        {
          "output_type": "stream",
          "text": [
            "2\n",
            "0b10\n"
          ],
          "name": "stdout"
        }
      ]
    },
    {
      "cell_type": "code",
      "metadata": {
        "id": "3KJCdbQ-tugU",
        "colab_type": "code",
        "colab": {
          "base_uri": "https://localhost:8080/",
          "height": 33
        },
        "outputId": "b05981b9-db1b-45e2-d33c-3ae76d19a457"
      },
      "source": [
        "5 >> 1"
      ],
      "execution_count": 26,
      "outputs": [
        {
          "output_type": "execute_result",
          "data": {
            "text/plain": [
              "2"
            ]
          },
          "metadata": {
            "tags": []
          },
          "execution_count": 26
        }
      ]
    },
    {
      "cell_type": "markdown",
      "metadata": {
        "id": "oJz-ef1Wtuga",
        "colab_type": "text"
      },
      "source": [
        "0000 0101 -> 5 \n",
        "\n",
        "Shifting the digits by 1 to the right and zero padding\n",
        "\n",
        "0000 0010 -> 2"
      ]
    },
    {
      "cell_type": "code",
      "metadata": {
        "id": "b3gB_xUotugb",
        "colab_type": "code",
        "colab": {},
        "outputId": "67fc2112-65db-4667-e355-65854b1791c0"
      },
      "source": [
        "5 << 1"
      ],
      "execution_count": 0,
      "outputs": [
        {
          "output_type": "execute_result",
          "data": {
            "text/plain": [
              "10"
            ]
          },
          "metadata": {
            "tags": []
          },
          "execution_count": 28
        }
      ]
    },
    {
      "cell_type": "markdown",
      "metadata": {
        "id": "y-lViqeAtugj",
        "colab_type": "text"
      },
      "source": [
        "0000 0101 -> 5 \n",
        "\n",
        "Shifting the digits by 1 to the left and zero padding\n",
        "\n",
        "0000 1010 -> 10"
      ]
    },
    {
      "cell_type": "markdown",
      "metadata": {
        "id": "KcrRU1fJtugk",
        "colab_type": "text"
      },
      "source": [
        "# Built-in Functions"
      ]
    },
    {
      "cell_type": "markdown",
      "metadata": {
        "id": "7_gB1LOwtugl",
        "colab_type": "text"
      },
      "source": [
        "Python comes loaded with pre-built functions"
      ]
    },
    {
      "cell_type": "markdown",
      "metadata": {
        "id": "f3EILQrytugm",
        "colab_type": "text"
      },
      "source": [
        "## Conversion from one system to another"
      ]
    },
    {
      "cell_type": "markdown",
      "metadata": {
        "id": "W82HIX_Btugo",
        "colab_type": "text"
      },
      "source": [
        "Conversion from hexadecimal to decimal is done by adding prefix **0x** to the hexadecimal value or vice versa by using built in **hex( )**, Octal to decimal by adding prefix **0** to the octal value or vice versa by using built in function **oct( )**."
      ]
    },
    {
      "cell_type": "code",
      "metadata": {
        "id": "n6kIUu0Ttugp",
        "colab_type": "code",
        "colab": {},
        "outputId": "cec93020-909a-41c3-e4df-e299173d4b99"
      },
      "source": [
        "hex(170)"
      ],
      "execution_count": 0,
      "outputs": [
        {
          "output_type": "execute_result",
          "data": {
            "text/plain": [
              "'0xaa'"
            ]
          },
          "metadata": {
            "tags": []
          },
          "execution_count": 29
        }
      ]
    },
    {
      "cell_type": "code",
      "metadata": {
        "id": "-mFtYdR1tugy",
        "colab_type": "code",
        "colab": {},
        "outputId": "fdd30ea4-4ef5-4ea0-feb0-a673fa46396c"
      },
      "source": [
        "0xAA"
      ],
      "execution_count": 0,
      "outputs": [
        {
          "output_type": "execute_result",
          "data": {
            "text/plain": [
              "170"
            ]
          },
          "metadata": {
            "tags": []
          },
          "execution_count": 30
        }
      ]
    },
    {
      "cell_type": "code",
      "metadata": {
        "id": "-al2Rhgytug6",
        "colab_type": "code",
        "colab": {},
        "outputId": "219fa8bd-4c68-4ffd-831a-04e0f46d97f6"
      },
      "source": [
        "oct(8)"
      ],
      "execution_count": 0,
      "outputs": [
        {
          "output_type": "execute_result",
          "data": {
            "text/plain": [
              "'0o10'"
            ]
          },
          "metadata": {
            "tags": []
          },
          "execution_count": 31
        }
      ]
    },
    {
      "cell_type": "markdown",
      "metadata": {
        "id": "-YaY7NOdtuhA",
        "colab_type": "text"
      },
      "source": [
        "**int( )** accepts two values when used for conversion, one is the value in a different number system and the other is its base. Note that input number in the different number system should be of string type."
      ]
    },
    {
      "cell_type": "code",
      "metadata": {
        "id": "7JnJ8ij1tuhB",
        "colab_type": "code",
        "colab": {},
        "outputId": "bd6f9d77-72a4-453b-8ed4-a9f090d4e7b1"
      },
      "source": [
        "print (int('010',8))\n",
        "print (int('0xaa',16))\n",
        "print (int('1010',2))"
      ],
      "execution_count": 0,
      "outputs": [
        {
          "output_type": "stream",
          "text": [
            "8\n",
            "170\n",
            "10\n"
          ],
          "name": "stdout"
        }
      ]
    },
    {
      "cell_type": "markdown",
      "metadata": {
        "id": "zhHDpy_BtuhJ",
        "colab_type": "text"
      },
      "source": [
        "**int( )** can also be used to get only the integer value of a float number or can be used to convert a number which is of type string to integer format. Similarly, the function **str( )** can be used to convert the integer back to string format"
      ]
    },
    {
      "cell_type": "code",
      "metadata": {
        "id": "VoDg8TZ5tuhK",
        "colab_type": "code",
        "colab": {},
        "outputId": "1a37e660-6573-43fc-aac8-3fcecd243a73"
      },
      "source": [
        "print (int(7.7))\n",
        "print (int('7'))"
      ],
      "execution_count": 0,
      "outputs": [
        {
          "output_type": "stream",
          "text": [
            "7\n",
            "7\n"
          ],
          "name": "stdout"
        }
      ]
    },
    {
      "cell_type": "markdown",
      "metadata": {
        "id": "Adf-ceRktuhQ",
        "colab_type": "text"
      },
      "source": [
        "Also note that function **bin( )** is used for binary and **float( )** for decimal/float values. **chr( )** is used for converting ASCII to its alphabet equivalent, **ord( )** is used for the other way round."
      ]
    },
    {
      "cell_type": "code",
      "metadata": {
        "id": "Un74uCp5tuhR",
        "colab_type": "code",
        "colab": {},
        "outputId": "3cb8b154-f1d8-4ea3-c41c-ba9df627d1cf"
      },
      "source": [
        "chr(98)"
      ],
      "execution_count": 0,
      "outputs": [
        {
          "output_type": "execute_result",
          "data": {
            "text/plain": [
              "'b'"
            ]
          },
          "metadata": {
            "tags": []
          },
          "execution_count": 34
        }
      ]
    },
    {
      "cell_type": "code",
      "metadata": {
        "id": "LoCE4QDatuhZ",
        "colab_type": "code",
        "colab": {},
        "outputId": "9c69f690-2d0c-4e2f-eea9-7172b31ac95a"
      },
      "source": [
        "ord('b')"
      ],
      "execution_count": 0,
      "outputs": [
        {
          "output_type": "execute_result",
          "data": {
            "text/plain": [
              "98"
            ]
          },
          "metadata": {
            "tags": []
          },
          "execution_count": 35
        }
      ]
    },
    {
      "cell_type": "markdown",
      "metadata": {
        "id": "amL-1ZrOtuhd",
        "colab_type": "text"
      },
      "source": [
        "##Simplifying Arithmetic Operations"
      ]
    },
    {
      "cell_type": "markdown",
      "metadata": {
        "id": "oDcFiwRttuhg",
        "colab_type": "text"
      },
      "source": [
        "**round( )** function rounds the input value to a specified number of places or to the nearest integer. "
      ]
    },
    {
      "cell_type": "code",
      "metadata": {
        "scrolled": false,
        "id": "-CiTjsQNtuhg",
        "colab_type": "code",
        "colab": {},
        "outputId": "fb69d494-4693-4e44-ce03-9dc5b785c2d7"
      },
      "source": [
        "print (round(5.6231) )\n",
        "print (round(4.55892, 2))"
      ],
      "execution_count": 0,
      "outputs": [
        {
          "output_type": "stream",
          "text": [
            "6\n",
            "4.56\n"
          ],
          "name": "stdout"
        }
      ]
    },
    {
      "cell_type": "markdown",
      "metadata": {
        "id": "MzSlIBE8tuhk",
        "colab_type": "text"
      },
      "source": [
        "**complex( )** is used to define a complex number and **abs( )** outputs the absolute value of the same."
      ]
    },
    {
      "cell_type": "code",
      "metadata": {
        "id": "p6_lBi2Xtuhl",
        "colab_type": "code",
        "colab": {},
        "outputId": "47929bfd-32f9-4830-a810-ae2dc51083d9"
      },
      "source": [
        "c =complex('5+2j')\n",
        "print (abs(c))"
      ],
      "execution_count": 0,
      "outputs": [
        {
          "output_type": "stream",
          "text": [
            "5.385164807134504\n"
          ],
          "name": "stdout"
        }
      ]
    },
    {
      "cell_type": "markdown",
      "metadata": {
        "id": "eqdz0Stttuhp",
        "colab_type": "text"
      },
      "source": [
        "**divmod(x,y)** outputs the quotient and the remainder in a tuple(you will be learning about it in the further chapters) in the format (quotient, remainder). "
      ]
    },
    {
      "cell_type": "code",
      "metadata": {
        "id": "1JHAGrpctuhq",
        "colab_type": "code",
        "colab": {},
        "outputId": "8c8998ab-ac4c-4b07-9adb-476e9928f2a1"
      },
      "source": [
        "divmod(9,2)"
      ],
      "execution_count": 0,
      "outputs": [
        {
          "output_type": "execute_result",
          "data": {
            "text/plain": [
              "(4, 1)"
            ]
          },
          "metadata": {
            "tags": []
          },
          "execution_count": 38
        }
      ]
    },
    {
      "cell_type": "markdown",
      "metadata": {
        "id": "K09XXXzituht",
        "colab_type": "text"
      },
      "source": [
        "**isinstance( )** returns True, if the first argument is an instance of that class. Multiple classes can also be checked at once."
      ]
    },
    {
      "cell_type": "code",
      "metadata": {
        "id": "mBEWPGnetuhv",
        "colab_type": "code",
        "colab": {},
        "outputId": "23c55119-d5d8-4c93-d7d7-1dbc48b4a396"
      },
      "source": [
        "print (isinstance(1, int))\n",
        "print (isinstance(1.0,int))\n",
        "print (isinstance(1.0,(int,float)))"
      ],
      "execution_count": 0,
      "outputs": [
        {
          "output_type": "stream",
          "text": [
            "True\n",
            "False\n",
            "True\n"
          ],
          "name": "stdout"
        }
      ]
    },
    {
      "cell_type": "markdown",
      "metadata": {
        "id": "e8Jx2f_jtuhz",
        "colab_type": "text"
      },
      "source": [
        "**pow(x,y,z)** can be used to find the power $x^y$ also the mod of the resulting value with the third specified number can be found i.e. : ($x^y$ % z)."
      ]
    },
    {
      "cell_type": "code",
      "metadata": {
        "id": "ukYkY6Wvtuh0",
        "colab_type": "code",
        "colab": {},
        "outputId": "c158f2df-8fe1-405b-94fe-1329739aa161"
      },
      "source": [
        "print (pow(3,3))\n",
        "print (pow(3,3,5))"
      ],
      "execution_count": 0,
      "outputs": [
        {
          "output_type": "stream",
          "text": [
            "27\n",
            "2\n"
          ],
          "name": "stdout"
        }
      ]
    },
    {
      "cell_type": "markdown",
      "metadata": {
        "id": "LAgBgfkAtuh3",
        "colab_type": "text"
      },
      "source": [
        "**range( )** function outputs the integers of the specified range. It can also be used to generate a series by specifying the difference between the two numbers within a particular range. The elements are returned in a list (will be discussing in detail later.)"
      ]
    },
    {
      "cell_type": "code",
      "metadata": {
        "id": "WEZ63p39tuh3",
        "colab_type": "code",
        "colab": {},
        "outputId": "4f25b492-009f-47ff-8718-478231accc9e"
      },
      "source": [
        "print (range(3))\n",
        "print (range(2,9))\n",
        "print (range(2,27,8))"
      ],
      "execution_count": 0,
      "outputs": [
        {
          "output_type": "stream",
          "text": [
            "range(0, 3)\n",
            "range(2, 9)\n",
            "range(2, 27, 8)\n"
          ],
          "name": "stdout"
        }
      ]
    },
    {
      "cell_type": "code",
      "metadata": {
        "id": "dm3tn_jStuh7",
        "colab_type": "code",
        "colab": {}
      },
      "source": [
        ""
      ],
      "execution_count": 0,
      "outputs": []
    },
    {
      "cell_type": "code",
      "metadata": {
        "id": "Vnhhha8KtuiA",
        "colab_type": "code",
        "colab": {}
      },
      "source": [
        ""
      ],
      "execution_count": 0,
      "outputs": []
    }
  ]
}