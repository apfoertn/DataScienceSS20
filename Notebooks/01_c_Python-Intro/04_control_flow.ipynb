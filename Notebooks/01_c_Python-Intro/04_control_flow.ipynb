{
  "nbformat": 4,
  "nbformat_minor": 0,
  "metadata": {
    "kernelspec": {
      "display_name": "Python 3",
      "language": "python",
      "name": "python3"
    },
    "language_info": {
      "codemirror_mode": {
        "name": "ipython",
        "version": 3
      },
      "file_extension": ".py",
      "mimetype": "text/x-python",
      "name": "python",
      "nbconvert_exporter": "python",
      "pygments_lexer": "ipython3",
      "version": "3.7.1"
    },
    "colab": {
      "name": "04_control_flow.ipynb",
      "provenance": []
    }
  },
  "cells": [
    {
      "cell_type": "markdown",
      "metadata": {
        "id": "92DkyLZsx158",
        "colab_type": "text"
      },
      "source": [
        "# Introduction to Python IV - Control Flow\n",
        "* Based on a lecture series by Rajath Kumart (https://github.com/rajathkumarmp/Python-Lectures)\n",
        "* Ported to Python3 and extessions added by Janis Keuper\n",
        "* Copyright: Creative Commons Attribution 3.0 Unported License. To view a copy of this license, visit http://creativecommons.org/licenses/by/3.0/"
      ]
    },
    {
      "cell_type": "code",
      "metadata": {
        "id": "Xq9VnXP2x15-",
        "colab_type": "code",
        "colab": {
          "base_uri": "https://localhost:8080/",
          "height": 117
        },
        "outputId": "e1239f13-9d47-4ba9-f342-560224a05f47"
      },
      "source": [
        "#check if notebook runs in colab\n",
        "import sys\n",
        "IN_COLAB = 'google.colab' in sys.modules\n",
        "print('running in Colab:',IN_COLAB)\n",
        "path='..'\n",
        "if IN_COLAB:\n",
        "  #in colab, we need to clone the data from the repo\n",
        "  !git clone https://github.com/keuperj/DataScienceSS20.git\n",
        "  path='DataScienceSS20'"
      ],
      "execution_count": 1,
      "outputs": [
        {
          "output_type": "stream",
          "text": [
            "running in Colab: True\n",
            "Cloning into 'DataScienceSS20'...\n",
            "remote: Enumerating objects: 248, done.\u001b[K\n",
            "remote: Total 248 (delta 0), reused 0 (delta 0), pack-reused 248\u001b[K\n",
            "Receiving objects: 100% (248/248), 45.43 MiB | 25.26 MiB/s, done.\n",
            "Resolving deltas: 100% (85/85), done.\n"
          ],
          "name": "stdout"
        }
      ]
    },
    {
      "cell_type": "markdown",
      "metadata": {
        "id": "ddeGrxhjx16J",
        "colab_type": "text"
      },
      "source": [
        "# Control Flow Statements"
      ]
    },
    {
      "cell_type": "markdown",
      "metadata": {
        "id": "WlK5E4Mox16K",
        "colab_type": "text"
      },
      "source": [
        "## If"
      ]
    },
    {
      "cell_type": "markdown",
      "metadata": {
        "id": "iJkO8zd4x16M",
        "colab_type": "text"
      },
      "source": [
        "if some_condition:\n",
        "    \n",
        "    algorithm"
      ]
    },
    {
      "cell_type": "code",
      "metadata": {
        "id": "ajOEDG37x16S",
        "colab_type": "code",
        "colab": {
          "base_uri": "https://localhost:8080/",
          "height": 33
        },
        "outputId": "65f43f40-a06a-47a9-d816-149c744dc935"
      },
      "source": [
        "x = 12\n",
        "if x >10:\n",
        "    print (\"Hello\")"
      ],
      "execution_count": 2,
      "outputs": [
        {
          "output_type": "stream",
          "text": [
            "Hello\n"
          ],
          "name": "stdout"
        }
      ]
    },
    {
      "cell_type": "markdown",
      "metadata": {
        "id": "N5tO27Iyx16k",
        "colab_type": "text"
      },
      "source": [
        "## If-else"
      ]
    },
    {
      "cell_type": "markdown",
      "metadata": {
        "id": "olJS7GbDx16m",
        "colab_type": "text"
      },
      "source": [
        "if some_condition:\n",
        "    \n",
        "    algorithm\n",
        "    \n",
        "else:\n",
        "    \n",
        "    algorithm"
      ]
    },
    {
      "cell_type": "code",
      "metadata": {
        "id": "owSJ2Uohx16r",
        "colab_type": "code",
        "colab": {
          "base_uri": "https://localhost:8080/",
          "height": 33
        },
        "outputId": "fe13b33a-0521-4ea2-cedb-ec0da8b6a381"
      },
      "source": [
        "x = 12\n",
        "if x > 10:\n",
        "    print (\"hello\")\n",
        "else:\n",
        "    print (\"world\")"
      ],
      "execution_count": 3,
      "outputs": [
        {
          "output_type": "stream",
          "text": [
            "hello\n"
          ],
          "name": "stdout"
        }
      ]
    },
    {
      "cell_type": "markdown",
      "metadata": {
        "id": "flflCl7ix160",
        "colab_type": "text"
      },
      "source": [
        "## if-elif"
      ]
    },
    {
      "cell_type": "markdown",
      "metadata": {
        "id": "rOwrqLu-x162",
        "colab_type": "text"
      },
      "source": [
        "if some_condition:\n",
        "    \n",
        "    algorithm\n",
        "\n",
        "elif some_condition:\n",
        "    \n",
        "    algorithm\n",
        "\n",
        "else:\n",
        "    \n",
        "    algorithm"
      ]
    },
    {
      "cell_type": "code",
      "metadata": {
        "id": "e-bDx9cqx164",
        "colab_type": "code",
        "colab": {
          "base_uri": "https://localhost:8080/",
          "height": 33
        },
        "outputId": "fb1d47bd-20da-48a2-f2f7-94bca8505022"
      },
      "source": [
        "x = 10\n",
        "y = 12\n",
        "if x > y:\n",
        "    print (\"x>y\")\n",
        "elif x < y:\n",
        "    print (\"x<y\")\n",
        "else:\n",
        "    print (\"x=y\")"
      ],
      "execution_count": 4,
      "outputs": [
        {
          "output_type": "stream",
          "text": [
            "x<y\n"
          ],
          "name": "stdout"
        }
      ]
    },
    {
      "cell_type": "markdown",
      "metadata": {
        "id": "ilU4DOuwx17D",
        "colab_type": "text"
      },
      "source": [
        "if statement inside a if statement or if-elif or if-else are called as nested if statements."
      ]
    },
    {
      "cell_type": "code",
      "metadata": {
        "id": "rBTkhFnMx17F",
        "colab_type": "code",
        "colab": {
          "base_uri": "https://localhost:8080/",
          "height": 50
        },
        "outputId": "74cdbb2d-6e0a-44c7-c4ba-6c8678d28fc9"
      },
      "source": [
        "x = 10\n",
        "y = 12\n",
        "if x > y:\n",
        "    print (\"x>y\")\n",
        "elif x < y:\n",
        "    print (\"x<y\")\n",
        "    if x==10:\n",
        "        print (\"x=10\")\n",
        "    else:\n",
        "        print (\"invalid\")\n",
        "else:\n",
        "    print (\"x=y\")"
      ],
      "execution_count": 5,
      "outputs": [
        {
          "output_type": "stream",
          "text": [
            "x<y\n",
            "x=10\n"
          ],
          "name": "stdout"
        }
      ]
    },
    {
      "cell_type": "markdown",
      "metadata": {
        "id": "qhm4PoCux17R",
        "colab_type": "text"
      },
      "source": [
        "## Loops"
      ]
    },
    {
      "cell_type": "markdown",
      "metadata": {
        "id": "WKPqYLyfx17S",
        "colab_type": "text"
      },
      "source": [
        "### For"
      ]
    },
    {
      "cell_type": "markdown",
      "metadata": {
        "id": "bAkFH7X7x17U",
        "colab_type": "text"
      },
      "source": [
        "for variable in something:\n",
        "    \n",
        "    algorithm"
      ]
    },
    {
      "cell_type": "code",
      "metadata": {
        "id": "p5S6_TI6x17W",
        "colab_type": "code",
        "colab": {
          "base_uri": "https://localhost:8080/",
          "height": 100
        },
        "outputId": "5ab6b8c0-9769-42cf-8481-48185e117ede"
      },
      "source": [
        "for i in range(5):\n",
        "    print (i)"
      ],
      "execution_count": 6,
      "outputs": [
        {
          "output_type": "stream",
          "text": [
            "0\n",
            "1\n",
            "2\n",
            "3\n",
            "4\n"
          ],
          "name": "stdout"
        }
      ]
    },
    {
      "cell_type": "markdown",
      "metadata": {
        "id": "7W1CeIO_x17b",
        "colab_type": "text"
      },
      "source": [
        "In the above example, i iterates over the 0,1,2,3,4. Every time it takes each value and executes the algorithm inside the loop. It is also possible to iterate over a nested list illustrated below."
      ]
    },
    {
      "cell_type": "code",
      "metadata": {
        "id": "zwUDCHqTx17c",
        "colab_type": "code",
        "colab": {
          "base_uri": "https://localhost:8080/",
          "height": 67
        },
        "outputId": "90d88d18-ed6b-45b6-9ba1-f5d87da61833"
      },
      "source": [
        "list_of_lists = [[1, 2, 3], [4, 5, 6], [7, 8, 9]]\n",
        "for list1 in list_of_lists:\n",
        "        print (list1)"
      ],
      "execution_count": 7,
      "outputs": [
        {
          "output_type": "stream",
          "text": [
            "[1, 2, 3]\n",
            "[4, 5, 6]\n",
            "[7, 8, 9]\n"
          ],
          "name": "stdout"
        }
      ]
    },
    {
      "cell_type": "markdown",
      "metadata": {
        "id": "Qm13wE_Ex17i",
        "colab_type": "text"
      },
      "source": [
        "A use case of a nested for loop in this case would be,"
      ]
    },
    {
      "cell_type": "code",
      "metadata": {
        "id": "ozIvrhUGx17j",
        "colab_type": "code",
        "colab": {
          "base_uri": "https://localhost:8080/",
          "height": 167
        },
        "outputId": "277c4d71-59af-4875-9708-e87d8e4c0e71"
      },
      "source": [
        "list_of_lists = [[1, 2, 3], [4, 5, 6], [7, 8, 9]]\n",
        "for list1 in list_of_lists:\n",
        "    for x in list1:\n",
        "        print (x)"
      ],
      "execution_count": 8,
      "outputs": [
        {
          "output_type": "stream",
          "text": [
            "1\n",
            "2\n",
            "3\n",
            "4\n",
            "5\n",
            "6\n",
            "7\n",
            "8\n",
            "9\n"
          ],
          "name": "stdout"
        }
      ]
    },
    {
      "cell_type": "markdown",
      "metadata": {
        "id": "haPfFetlx17w",
        "colab_type": "text"
      },
      "source": [
        "### While"
      ]
    },
    {
      "cell_type": "markdown",
      "metadata": {
        "id": "PKMNTGICx172",
        "colab_type": "text"
      },
      "source": [
        "while some_condition:\n",
        "    \n",
        "    algorithm"
      ]
    },
    {
      "cell_type": "code",
      "metadata": {
        "id": "AvmHlnFLx179",
        "colab_type": "code",
        "colab": {
          "base_uri": "https://localhost:8080/",
          "height": 67
        },
        "outputId": "06cdf5a2-916f-4876-c072-e9b60bb66610"
      },
      "source": [
        "i = 1\n",
        "while i < 3:\n",
        "    print(i ** 2)\n",
        "    i = i+1\n",
        "print('Bye')"
      ],
      "execution_count": 9,
      "outputs": [
        {
          "output_type": "stream",
          "text": [
            "1\n",
            "4\n",
            "Bye\n"
          ],
          "name": "stdout"
        }
      ]
    },
    {
      "cell_type": "markdown",
      "metadata": {
        "id": "eNtpLwobx18I",
        "colab_type": "text"
      },
      "source": [
        "## Break"
      ]
    },
    {
      "cell_type": "markdown",
      "metadata": {
        "id": "YAsHnwm1x18J",
        "colab_type": "text"
      },
      "source": [
        "As the name says. It is used to break out of a loop when a condition becomes true when executing the loop."
      ]
    },
    {
      "cell_type": "code",
      "metadata": {
        "id": "QbgMxcPWx18K",
        "colab_type": "code",
        "colab": {
          "base_uri": "https://localhost:8080/",
          "height": 150
        },
        "outputId": "258e915c-5d3a-4a35-c815-e632c307ac46"
      },
      "source": [
        "for i in range(100):\n",
        "    print (i)\n",
        "    if i>=7:\n",
        "        break"
      ],
      "execution_count": 10,
      "outputs": [
        {
          "output_type": "stream",
          "text": [
            "0\n",
            "1\n",
            "2\n",
            "3\n",
            "4\n",
            "5\n",
            "6\n",
            "7\n"
          ],
          "name": "stdout"
        }
      ]
    },
    {
      "cell_type": "markdown",
      "metadata": {
        "id": "hF9G1ojkx18R",
        "colab_type": "text"
      },
      "source": [
        "## Continue"
      ]
    },
    {
      "cell_type": "markdown",
      "metadata": {
        "id": "QRcQoc8Vx18S",
        "colab_type": "text"
      },
      "source": [
        "This continues the rest of the loop. Sometimes when a condition is satisfied there are chances of the loop getting terminated. This can be avoided using continue statement. "
      ]
    },
    {
      "cell_type": "code",
      "metadata": {
        "id": "qa-OsH-4x18U",
        "colab_type": "code",
        "colab": {
          "base_uri": "https://localhost:8080/",
          "height": 183
        },
        "outputId": "b6ff5e8a-2281-444f-b43d-23166f914bcf"
      },
      "source": [
        "for i in range(10):\n",
        "    if i>4:\n",
        "        print (\"The end.\")\n",
        "        continue\n",
        "    elif i<7:\n",
        "        print (i)"
      ],
      "execution_count": 11,
      "outputs": [
        {
          "output_type": "stream",
          "text": [
            "0\n",
            "1\n",
            "2\n",
            "3\n",
            "4\n",
            "The end.\n",
            "The end.\n",
            "The end.\n",
            "The end.\n",
            "The end.\n"
          ],
          "name": "stdout"
        }
      ]
    },
    {
      "cell_type": "markdown",
      "metadata": {
        "id": "aC1SnXWrx18Y",
        "colab_type": "text"
      },
      "source": [
        "## List Comprehensions"
      ]
    },
    {
      "cell_type": "markdown",
      "metadata": {
        "id": "nW-rQThQx18Z",
        "colab_type": "text"
      },
      "source": [
        "Python makes it simple to generate a required list with a single line of code using list comprehensions. For example If i need to generate multiples of say 27 I write the code using for loop as,"
      ]
    },
    {
      "cell_type": "code",
      "metadata": {
        "id": "u_AHN-OMx18a",
        "colab_type": "code",
        "colab": {
          "base_uri": "https://localhost:8080/",
          "height": 33
        },
        "outputId": "705bc439-7858-4395-a1da-74813f308598"
      },
      "source": [
        "res = []\n",
        "for i in range(1,11):\n",
        "    x = 27*i\n",
        "    res.append(x)\n",
        "print (res)"
      ],
      "execution_count": 12,
      "outputs": [
        {
          "output_type": "stream",
          "text": [
            "[27, 54, 81, 108, 135, 162, 189, 216, 243, 270]\n"
          ],
          "name": "stdout"
        }
      ]
    },
    {
      "cell_type": "markdown",
      "metadata": {
        "id": "V__3KCc9x18g",
        "colab_type": "text"
      },
      "source": [
        "Since you are generating another list altogether and that is what is required, List comprehensions is a more efficient way to solve this problem."
      ]
    },
    {
      "cell_type": "code",
      "metadata": {
        "id": "qym9-jqgx18h",
        "colab_type": "code",
        "colab": {
          "base_uri": "https://localhost:8080/",
          "height": 33
        },
        "outputId": "bd08ecbe-3f38-408a-f5b9-384c9863c033"
      },
      "source": [
        "[27*x for x in range(1,11)]"
      ],
      "execution_count": 13,
      "outputs": [
        {
          "output_type": "execute_result",
          "data": {
            "text/plain": [
              "[27, 54, 81, 108, 135, 162, 189, 216, 243, 270]"
            ]
          },
          "metadata": {
            "tags": []
          },
          "execution_count": 13
        }
      ]
    },
    {
      "cell_type": "markdown",
      "metadata": {
        "id": "30n_1X8yx18q",
        "colab_type": "text"
      },
      "source": [
        "That's it!. Only remember to enclose it in square brackets"
      ]
    },
    {
      "cell_type": "code",
      "metadata": {
        "id": "Dd8gh4k-GlHb",
        "colab_type": "code",
        "colab": {}
      },
      "source": [
        ""
      ],
      "execution_count": 0,
      "outputs": []
    }
  ]
}