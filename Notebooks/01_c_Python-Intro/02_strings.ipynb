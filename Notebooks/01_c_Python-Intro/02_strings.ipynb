{
  "nbformat": 4,
  "nbformat_minor": 0,
  "metadata": {
    "kernelspec": {
      "display_name": "Python 3",
      "language": "python",
      "name": "python3"
    },
    "language_info": {
      "codemirror_mode": {
        "name": "ipython",
        "version": 3
      },
      "file_extension": ".py",
      "mimetype": "text/x-python",
      "name": "python",
      "nbconvert_exporter": "python",
      "pygments_lexer": "ipython3",
      "version": "3.7.1"
    },
    "colab": {
      "name": "02_strings.ipynb",
      "provenance": []
    }
  },
  "cells": [
    {
      "cell_type": "markdown",
      "metadata": {
        "id": "9ynikI60x1WK",
        "colab_type": "text"
      },
      "source": [
        "# Introduction to Python II - Strings\n",
        "* Based on a lecture series by Rajath Kumart (https://github.com/rajathkumarmp/Python-Lectures)\n",
        "* Ported to Python3 and extessions added by Janis Keuper\n",
        "* Copyright: Creative Commons Attribution 3.0 Unported License. To view a copy of this license, visit http://creativecommons.org/licenses/by/3.0/"
      ]
    },
    {
      "cell_type": "code",
      "metadata": {
        "id": "s2vT4avOx1WM",
        "colab_type": "code",
        "colab": {
          "base_uri": "https://localhost:8080/",
          "height": 117
        },
        "outputId": "2738726a-d308-4bf5-ee96-70ef9843c081"
      },
      "source": [
        "#check if notebook runs in colab\n",
        "import sys\n",
        "IN_COLAB = 'google.colab' in sys.modules\n",
        "print('running in Colab:',IN_COLAB)\n",
        "path='..'\n",
        "if IN_COLAB:\n",
        "  #in colab, we need to clone the data from the repo\n",
        "  !git clone https://github.com/keuperj/DataScienceSS20.git\n",
        "  path='DataScienceSS20'"
      ],
      "execution_count": 1,
      "outputs": [
        {
          "output_type": "stream",
          "text": [
            "running in Colab: True\n",
            "Cloning into 'DataScienceSS20'...\n",
            "remote: Enumerating objects: 248, done.\u001b[K\n",
            "remote: Total 248 (delta 0), reused 0 (delta 0), pack-reused 248\u001b[K\n",
            "Receiving objects: 100% (248/248), 45.43 MiB | 24.63 MiB/s, done.\n",
            "Resolving deltas: 100% (85/85), done.\n"
          ],
          "name": "stdout"
        }
      ]
    },
    {
      "cell_type": "markdown",
      "metadata": {
        "id": "Fu--3GMFx1WU",
        "colab_type": "text"
      },
      "source": [
        "# Print Statement"
      ]
    },
    {
      "cell_type": "markdown",
      "metadata": {
        "id": "CB63Fr-px1WV",
        "colab_type": "text"
      },
      "source": [
        "The **print** statement can be used in the following different ways :\n",
        "\n",
        "    - print (\"Hello World\")\n",
        "    - print (\"Hello\", <Variable Containing the String>)\n",
        "    - print (\"Hello\" + <Variable Containing the String>)\n",
        "    - print (\"Hello %s\" % <variable containing the string>)"
      ]
    },
    {
      "cell_type": "code",
      "metadata": {
        "id": "iJeETxyNx1WW",
        "colab_type": "code",
        "colab": {
          "base_uri": "https://localhost:8080/",
          "height": 33
        },
        "outputId": "b69dc4d8-de47-4825-bbdc-4d39e7612f7e"
      },
      "source": [
        "print (\"Hello World\")"
      ],
      "execution_count": 2,
      "outputs": [
        {
          "output_type": "stream",
          "text": [
            "Hello World\n"
          ],
          "name": "stdout"
        }
      ]
    },
    {
      "cell_type": "markdown",
      "metadata": {
        "id": "b6ZvjwZ0x1Wa",
        "colab_type": "text"
      },
      "source": [
        "In Python, single, double and triple quotes are used to denote a string.\n",
        "Most use single quotes when declaring a single character. \n",
        "Double quotes when declaring a line and triple quotes when declaring a paragraph/multiple lines."
      ]
    },
    {
      "cell_type": "code",
      "metadata": {
        "id": "WeD96isYx1Wb",
        "colab_type": "code",
        "colab": {
          "base_uri": "https://localhost:8080/",
          "height": 33
        },
        "outputId": "1c09ca4b-5a7e-41fb-9025-2c888a8ce223"
      },
      "source": [
        "print ('Hey')"
      ],
      "execution_count": 3,
      "outputs": [
        {
          "output_type": "stream",
          "text": [
            "Hey\n"
          ],
          "name": "stdout"
        }
      ]
    },
    {
      "cell_type": "code",
      "metadata": {
        "id": "LsxJ-aQUx1Wf",
        "colab_type": "code",
        "colab": {
          "base_uri": "https://localhost:8080/",
          "height": 67
        },
        "outputId": "2824545c-e751-492b-ccd8-7c69c468773e"
      },
      "source": [
        "print (\"\"\"My name is Rajath Kumar M.P.\n",
        "\n",
        "I love Python.\"\"\")"
      ],
      "execution_count": 4,
      "outputs": [
        {
          "output_type": "stream",
          "text": [
            "My name is Rajath Kumar M.P.\n",
            "\n",
            "I love Python.\n"
          ],
          "name": "stdout"
        }
      ]
    },
    {
      "cell_type": "markdown",
      "metadata": {
        "id": "J39bhE7ex1Wk",
        "colab_type": "text"
      },
      "source": [
        "Strings can be assigned to variable say _string1_ and _string2_ which can called when using the print statement."
      ]
    },
    {
      "cell_type": "code",
      "metadata": {
        "scrolled": true,
        "id": "6KCMZgB8x1Wk",
        "colab_type": "code",
        "colab": {
          "base_uri": "https://localhost:8080/",
          "height": 50
        },
        "outputId": "fce1240f-705e-46e6-f7f6-561e501d277d"
      },
      "source": [
        "string1 = 'World'\n",
        "print ('Hello', string1)\n",
        "\n",
        "string2 = '!'\n",
        "print ('Hello', string1, string2)"
      ],
      "execution_count": 5,
      "outputs": [
        {
          "output_type": "stream",
          "text": [
            "Hello World\n",
            "Hello World !\n"
          ],
          "name": "stdout"
        }
      ]
    },
    {
      "cell_type": "markdown",
      "metadata": {
        "id": "NIcjFO54x1Wp",
        "colab_type": "text"
      },
      "source": [
        "String concatenation is the \"addition\" of two strings. Observe that while concatenating there will be no space between the strings."
      ]
    },
    {
      "cell_type": "code",
      "metadata": {
        "id": "FDzUQp6Sx1Wq",
        "colab_type": "code",
        "colab": {
          "base_uri": "https://localhost:8080/",
          "height": 33
        },
        "outputId": "be6a334a-57fe-4af1-ba11-25039ded8c6f"
      },
      "source": [
        "print ('Hello' + string1 + string2)"
      ],
      "execution_count": 6,
      "outputs": [
        {
          "output_type": "stream",
          "text": [
            "HelloWorld!\n"
          ],
          "name": "stdout"
        }
      ]
    },
    {
      "cell_type": "markdown",
      "metadata": {
        "id": "la7sXwVLx1Wv",
        "colab_type": "text"
      },
      "source": [
        "**%s** is used to refer to a variable which contains a string."
      ]
    },
    {
      "cell_type": "code",
      "metadata": {
        "id": "Mox7nlQLx1Ww",
        "colab_type": "code",
        "colab": {
          "base_uri": "https://localhost:8080/",
          "height": 33
        },
        "outputId": "7f77c718-96ec-4d9f-ff71-4e52ccee3726"
      },
      "source": [
        "print (\"Hello %s\" % string1)"
      ],
      "execution_count": 7,
      "outputs": [
        {
          "output_type": "stream",
          "text": [
            "Hello World\n"
          ],
          "name": "stdout"
        }
      ]
    },
    {
      "cell_type": "markdown",
      "metadata": {
        "id": "JWtJtHODx1W0",
        "colab_type": "text"
      },
      "source": [
        "Similarly, when using other data types\n",
        "\n",
        "    - %s -> string\n",
        "    - %d -> Integer\n",
        "    - %f -> Float\n",
        "    - %o -> Octal\n",
        "    - %x -> Hexadecimal\n",
        "    - %e -> exponential\n",
        "    \n",
        "This can be used for conversions inside the print statement itself."
      ]
    },
    {
      "cell_type": "code",
      "metadata": {
        "id": "fsQS6YVox1W1",
        "colab_type": "code",
        "colab": {
          "base_uri": "https://localhost:8080/",
          "height": 100
        },
        "outputId": "5f4e2de3-9121-4163-bf09-d9182227c222"
      },
      "source": [
        "print (\"Actual Number = %d\" %18)\n",
        "print (\"Float of the number = %f\" %18)\n",
        "print (\"Octal equivalent of the number = %o\" %18)\n",
        "print (\"Hexadecimal equivalent of the number = %x\" %18)\n",
        "print (\"Exponential equivalent of the number = %e\" %18)"
      ],
      "execution_count": 8,
      "outputs": [
        {
          "output_type": "stream",
          "text": [
            "Actual Number = 18\n",
            "Float of the number = 18.000000\n",
            "Octal equivalent of the number = 22\n",
            "Hexadecimal equivalent of the number = 12\n",
            "Exponential equivalent of the number = 1.800000e+01\n"
          ],
          "name": "stdout"
        }
      ]
    },
    {
      "cell_type": "markdown",
      "metadata": {
        "id": "Rw20c-g_x1W5",
        "colab_type": "text"
      },
      "source": [
        "When referring to multiple variables parenthesis is used."
      ]
    },
    {
      "cell_type": "code",
      "metadata": {
        "id": "-zH3KsJUx1W6",
        "colab_type": "code",
        "colab": {
          "base_uri": "https://localhost:8080/",
          "height": 33
        },
        "outputId": "5394ccbe-8cfe-45d0-f139-abc4d6f1c3f5"
      },
      "source": [
        "print (\"Hello %s %s\" %(string1,string2))"
      ],
      "execution_count": 9,
      "outputs": [
        {
          "output_type": "stream",
          "text": [
            "Hello World !\n"
          ],
          "name": "stdout"
        }
      ]
    },
    {
      "cell_type": "markdown",
      "metadata": {
        "id": "oBtZq2q3x1W-",
        "colab_type": "text"
      },
      "source": [
        "## Other Examples"
      ]
    },
    {
      "cell_type": "markdown",
      "metadata": {
        "id": "uImffsK_x1W_",
        "colab_type": "text"
      },
      "source": [
        "The following are other different ways the print statement can be put to use."
      ]
    },
    {
      "cell_type": "code",
      "metadata": {
        "id": "pFWrTH_Ux1XA",
        "colab_type": "code",
        "colab": {
          "base_uri": "https://localhost:8080/",
          "height": 33
        },
        "outputId": "2193c627-6cdc-4001-9397-b2134a56e76f"
      },
      "source": [
        "print (\"I want %%d to be printed %s\" %'here')"
      ],
      "execution_count": 10,
      "outputs": [
        {
          "output_type": "stream",
          "text": [
            "I want %d to be printed here\n"
          ],
          "name": "stdout"
        }
      ]
    },
    {
      "cell_type": "code",
      "metadata": {
        "id": "PnTOFmOUx1XE",
        "colab_type": "code",
        "colab": {
          "base_uri": "https://localhost:8080/",
          "height": 33
        },
        "outputId": "f74bc5b7-7ce0-4378-bfd4-76c69997f962"
      },
      "source": [
        "print ('_A'*10)"
      ],
      "execution_count": 11,
      "outputs": [
        {
          "output_type": "stream",
          "text": [
            "_A_A_A_A_A_A_A_A_A_A\n"
          ],
          "name": "stdout"
        }
      ]
    },
    {
      "cell_type": "code",
      "metadata": {
        "id": "SFmGDpAtx1XI",
        "colab_type": "code",
        "colab": {
          "base_uri": "https://localhost:8080/",
          "height": 150
        },
        "outputId": "206c0483-e4a6-4624-b65f-d4888d0ead79"
      },
      "source": [
        "print (\"Jan\\nFeb\\nMar\\nApr\\nMay\\nJun\\nJul\\nAug\")"
      ],
      "execution_count": 12,
      "outputs": [
        {
          "output_type": "stream",
          "text": [
            "Jan\n",
            "Feb\n",
            "Mar\n",
            "Apr\n",
            "May\n",
            "Jun\n",
            "Jul\n",
            "Aug\n"
          ],
          "name": "stdout"
        }
      ]
    },
    {
      "cell_type": "code",
      "metadata": {
        "id": "YOlxu1Gwx1XM",
        "colab_type": "code",
        "colab": {
          "base_uri": "https://localhost:8080/",
          "height": 33
        },
        "outputId": "c4ea8a80-2691-46e3-c2fe-a1809779c467"
      },
      "source": [
        "print (\"I want \\\\n to be printed.\")"
      ],
      "execution_count": 13,
      "outputs": [
        {
          "output_type": "stream",
          "text": [
            "I want \\n to be printed.\n"
          ],
          "name": "stdout"
        }
      ]
    },
    {
      "cell_type": "code",
      "metadata": {
        "id": "SH2qp2rHx1XQ",
        "colab_type": "code",
        "colab": {
          "base_uri": "https://localhost:8080/",
          "height": 117
        },
        "outputId": "fba4e55b-d093-4807-8e1d-a7a97ab8048c"
      },
      "source": [
        "print (\"\"\"\n",
        "Routine:\n",
        "\\t- Eat\n",
        "\\t- Sleep\\n\\t- Repeat\n",
        "\"\"\")"
      ],
      "execution_count": 14,
      "outputs": [
        {
          "output_type": "stream",
          "text": [
            "\n",
            "Routine:\n",
            "\t- Eat\n",
            "\t- Sleep\n",
            "\t- Repeat\n",
            "\n"
          ],
          "name": "stdout"
        }
      ]
    },
    {
      "cell_type": "markdown",
      "metadata": {
        "id": "5xUN1W-Wx1Xj",
        "colab_type": "text"
      },
      "source": [
        "# PrecisionWidth and FieldWidth"
      ]
    },
    {
      "cell_type": "markdown",
      "metadata": {
        "id": "z2WPMC63x1Xk",
        "colab_type": "text"
      },
      "source": [
        "Fieldwidth is the width of the entire number and precision is the width towards the right. One can alter these widths based on the requirements.\n",
        "\n",
        "The default Precision Width is set to 6."
      ]
    },
    {
      "cell_type": "code",
      "metadata": {
        "id": "unw32_tUx1Xm",
        "colab_type": "code",
        "colab": {
          "base_uri": "https://localhost:8080/",
          "height": 33
        },
        "outputId": "b1071c83-59f8-4ee8-a8f9-13ded376d658"
      },
      "source": [
        "\"%f\" % 3.121312312312"
      ],
      "execution_count": 15,
      "outputs": [
        {
          "output_type": "execute_result",
          "data": {
            "text/plain": [
              "'3.121312'"
            ]
          },
          "metadata": {
            "tags": []
          },
          "execution_count": 15
        }
      ]
    },
    {
      "cell_type": "markdown",
      "metadata": {
        "id": "9hw0XiIzx1Xy",
        "colab_type": "text"
      },
      "source": [
        "Notice upto 6 decimal points are returned. To specify the number of decimal points, '%(fieldwidth).(precisionwidth)f' is used."
      ]
    },
    {
      "cell_type": "code",
      "metadata": {
        "id": "qt_OB6Fix1Xz",
        "colab_type": "code",
        "colab": {
          "base_uri": "https://localhost:8080/",
          "height": 33
        },
        "outputId": "14ecb8ac-510a-42f9-bf68-17b65f5f9e72"
      },
      "source": [
        "\"%.5f\" % 3.121312312312"
      ],
      "execution_count": 16,
      "outputs": [
        {
          "output_type": "execute_result",
          "data": {
            "text/plain": [
              "'3.12131'"
            ]
          },
          "metadata": {
            "tags": []
          },
          "execution_count": 16
        }
      ]
    },
    {
      "cell_type": "markdown",
      "metadata": {
        "id": "_OWB9aNex1YT",
        "colab_type": "text"
      },
      "source": [
        "If the field width is set more than the necessary than the data right aligns itself to adjust to the specified values."
      ]
    },
    {
      "cell_type": "code",
      "metadata": {
        "id": "sX_phnAfx1YU",
        "colab_type": "code",
        "colab": {
          "base_uri": "https://localhost:8080/",
          "height": 33
        },
        "outputId": "342ee1c8-c1ff-44a2-b057-3b4e7680e95c"
      },
      "source": [
        "\"%9.5f\" % 3.121312312312"
      ],
      "execution_count": 17,
      "outputs": [
        {
          "output_type": "execute_result",
          "data": {
            "text/plain": [
              "'  3.12131'"
            ]
          },
          "metadata": {
            "tags": []
          },
          "execution_count": 17
        }
      ]
    },
    {
      "cell_type": "markdown",
      "metadata": {
        "id": "ZJS6aybXx1YX",
        "colab_type": "text"
      },
      "source": [
        "Zero padding is done by adding a 0 at the start of fieldwidth."
      ]
    },
    {
      "cell_type": "code",
      "metadata": {
        "id": "fNRMgQipx1YY",
        "colab_type": "code",
        "colab": {
          "base_uri": "https://localhost:8080/",
          "height": 33
        },
        "outputId": "2b68517d-d54e-4f54-f814-b0ff68c9bb55"
      },
      "source": [
        "\"%020.5f\" % 3.121312312312"
      ],
      "execution_count": 18,
      "outputs": [
        {
          "output_type": "execute_result",
          "data": {
            "text/plain": [
              "'00000000000003.12131'"
            ]
          },
          "metadata": {
            "tags": []
          },
          "execution_count": 18
        }
      ]
    },
    {
      "cell_type": "markdown",
      "metadata": {
        "id": "bmGqmWvWx1Yb",
        "colab_type": "text"
      },
      "source": [
        "For proper alignment, a space can be left blank in the field width so that when a negative number is used, proper alignment is maintained."
      ]
    },
    {
      "cell_type": "code",
      "metadata": {
        "id": "iq7SO9sLx1Yc",
        "colab_type": "code",
        "colab": {
          "base_uri": "https://localhost:8080/",
          "height": 50
        },
        "outputId": "ce117d1a-7336-437c-b064-f5e96ea27ff8"
      },
      "source": [
        "print (\"% 9f\" % 3.121312312312)\n",
        "print (\"% 9f\" % -3.121312312312)"
      ],
      "execution_count": 19,
      "outputs": [
        {
          "output_type": "stream",
          "text": [
            " 3.121312\n",
            "-3.121312\n"
          ],
          "name": "stdout"
        }
      ]
    },
    {
      "cell_type": "markdown",
      "metadata": {
        "id": "0YuBNN9Mx1Yf",
        "colab_type": "text"
      },
      "source": [
        "'+' sign can be returned at the beginning of a positive number by adding a + sign at the beginning of the field width."
      ]
    },
    {
      "cell_type": "code",
      "metadata": {
        "id": "RiV3YY6nx1Yg",
        "colab_type": "code",
        "colab": {
          "base_uri": "https://localhost:8080/",
          "height": 50
        },
        "outputId": "46aaf52b-59a8-4e39-c5a8-2f6bc8c9de20"
      },
      "source": [
        "print (\"%+9f\" % 3.121312312312)\n",
        "print (\"% 9f\" % -3.121312312312)"
      ],
      "execution_count": 20,
      "outputs": [
        {
          "output_type": "stream",
          "text": [
            "+3.121312\n",
            "-3.121312\n"
          ],
          "name": "stdout"
        }
      ]
    },
    {
      "cell_type": "markdown",
      "metadata": {
        "id": "RUDC88_gx1Ym",
        "colab_type": "text"
      },
      "source": [
        "As mentioned above, the data right aligns itself when the field width mentioned is larger than the actualy field width. But left alignment can be done by specifying a negative symbol in the field width."
      ]
    },
    {
      "cell_type": "code",
      "metadata": {
        "id": "rq7zShsGx1Ym",
        "colab_type": "code",
        "colab": {
          "base_uri": "https://localhost:8080/",
          "height": 33
        },
        "outputId": "bae252d9-6679-47a9-94c4-97e609fdfdc6"
      },
      "source": [
        "\"%-9.3f\" % 3.121312312312"
      ],
      "execution_count": 21,
      "outputs": [
        {
          "output_type": "execute_result",
          "data": {
            "text/plain": [
              "'3.121    '"
            ]
          },
          "metadata": {
            "tags": []
          },
          "execution_count": 21
        }
      ]
    },
    {
      "cell_type": "markdown",
      "metadata": {
        "id": "u_C8U5hnx1Ys",
        "colab_type": "text"
      },
      "source": [
        "## Strings"
      ]
    },
    {
      "cell_type": "markdown",
      "metadata": {
        "id": "-HXEwf5zx1Yt",
        "colab_type": "text"
      },
      "source": [
        "Strings are ordered text based data which are represented by enclosing the same in single/double/triple quotes."
      ]
    },
    {
      "cell_type": "code",
      "metadata": {
        "id": "0BdglIaNx1Yu",
        "colab_type": "code",
        "colab": {}
      },
      "source": [
        "String0 = 'Taj Mahal is beautiful'\n",
        "String1 = \"Taj Mahal is beautiful\"\n",
        "String2 = '''Taj Mahal\n",
        "is\n",
        "beautiful'''"
      ],
      "execution_count": 0,
      "outputs": []
    },
    {
      "cell_type": "code",
      "metadata": {
        "id": "H9rL4AiRx1Yz",
        "colab_type": "code",
        "colab": {
          "base_uri": "https://localhost:8080/",
          "height": 100
        },
        "outputId": "324764de-9b4c-405c-e05e-2e14d6faa316"
      },
      "source": [
        "print (String0 , type(String0))\n",
        "print (String1, type(String1))\n",
        "print (String2, type(String2))"
      ],
      "execution_count": 23,
      "outputs": [
        {
          "output_type": "stream",
          "text": [
            "Taj Mahal is beautiful <class 'str'>\n",
            "Taj Mahal is beautiful <class 'str'>\n",
            "Taj Mahal\n",
            "is\n",
            "beautiful <class 'str'>\n"
          ],
          "name": "stdout"
        }
      ]
    },
    {
      "cell_type": "markdown",
      "metadata": {
        "id": "-bTazcdmx1Y4",
        "colab_type": "text"
      },
      "source": [
        "String Indexing and Slicing are similar to Lists which was explained in detail earlier."
      ]
    },
    {
      "cell_type": "code",
      "metadata": {
        "id": "-wIfIbjEx1Y4",
        "colab_type": "code",
        "colab": {
          "base_uri": "https://localhost:8080/",
          "height": 50
        },
        "outputId": "6bf47964-ace4-487a-b776-b8dd70962e38"
      },
      "source": [
        "print (String0[4])\n",
        "print (String0[4:])"
      ],
      "execution_count": 24,
      "outputs": [
        {
          "output_type": "stream",
          "text": [
            "M\n",
            "Mahal is beautiful\n"
          ],
          "name": "stdout"
        }
      ]
    },
    {
      "cell_type": "markdown",
      "metadata": {
        "id": "X7UaHzjXx1Y8",
        "colab_type": "text"
      },
      "source": [
        "### Built-in Functions"
      ]
    },
    {
      "cell_type": "markdown",
      "metadata": {
        "id": "Q1oemiKVx1Y9",
        "colab_type": "text"
      },
      "source": [
        "**find( )** function returns the index value of the given data that is to found in the string. If it is not found it returns **-1**. Remember to not confuse the returned -1 for reverse indexing value."
      ]
    },
    {
      "cell_type": "code",
      "metadata": {
        "id": "g_8HwT40x1Y9",
        "colab_type": "code",
        "colab": {
          "base_uri": "https://localhost:8080/",
          "height": 50
        },
        "outputId": "d9aece15-fb6d-4bd6-d030-9ddc6a6b662c"
      },
      "source": [
        "print (String0.find('al'))\n",
        "print (String0.find('am'))"
      ],
      "execution_count": 25,
      "outputs": [
        {
          "output_type": "stream",
          "text": [
            "7\n",
            "-1\n"
          ],
          "name": "stdout"
        }
      ]
    },
    {
      "cell_type": "markdown",
      "metadata": {
        "id": "bap2KI8vx1ZA",
        "colab_type": "text"
      },
      "source": [
        "The index value returned is the index of the first element in the input data."
      ]
    },
    {
      "cell_type": "code",
      "metadata": {
        "id": "nEF1ny_Ux1ZC",
        "colab_type": "code",
        "colab": {
          "base_uri": "https://localhost:8080/",
          "height": 33
        },
        "outputId": "df5ea0db-a433-4217-f71c-a7b52479df65"
      },
      "source": [
        "print (String0[7])"
      ],
      "execution_count": 26,
      "outputs": [
        {
          "output_type": "stream",
          "text": [
            "a\n"
          ],
          "name": "stdout"
        }
      ]
    },
    {
      "cell_type": "markdown",
      "metadata": {
        "id": "Y9kfVD0ex1ZH",
        "colab_type": "text"
      },
      "source": [
        "One can also input **find( )** function between which index values it has to search."
      ]
    },
    {
      "cell_type": "code",
      "metadata": {
        "id": "ZhrMjGUdx1ZI",
        "colab_type": "code",
        "colab": {
          "base_uri": "https://localhost:8080/",
          "height": 50
        },
        "outputId": "ebf813b3-460c-4767-a0d2-d7eef250e71c"
      },
      "source": [
        "print (String0.find('j',1))\n",
        "print (String0.find('j',1,3))"
      ],
      "execution_count": 27,
      "outputs": [
        {
          "output_type": "stream",
          "text": [
            "2\n",
            "2\n"
          ],
          "name": "stdout"
        }
      ]
    },
    {
      "cell_type": "markdown",
      "metadata": {
        "id": "ljCBO2NMx1ZN",
        "colab_type": "text"
      },
      "source": [
        "**capitalize( )** is used to capitalize the first element in the string."
      ]
    },
    {
      "cell_type": "code",
      "metadata": {
        "id": "qw7_p3Qrx1ZO",
        "colab_type": "code",
        "colab": {
          "base_uri": "https://localhost:8080/",
          "height": 33
        },
        "outputId": "547498d2-1529-4d3f-e494-9487783b0815"
      },
      "source": [
        "String3 = 'observe the first letter in this sentence.'\n",
        "print (String3.capitalize())"
      ],
      "execution_count": 28,
      "outputs": [
        {
          "output_type": "stream",
          "text": [
            "Observe the first letter in this sentence.\n"
          ],
          "name": "stdout"
        }
      ]
    },
    {
      "cell_type": "markdown",
      "metadata": {
        "id": "yi4id8hsx1ZV",
        "colab_type": "text"
      },
      "source": [
        "**center( )** is used to center align the string by specifying the field width."
      ]
    },
    {
      "cell_type": "code",
      "metadata": {
        "id": "m-huDI34x1ZW",
        "colab_type": "code",
        "colab": {
          "base_uri": "https://localhost:8080/",
          "height": 33
        },
        "outputId": "1399f3c2-0f8b-407b-ed97-5251438c745e"
      },
      "source": [
        "String0.center(70)"
      ],
      "execution_count": 29,
      "outputs": [
        {
          "output_type": "execute_result",
          "data": {
            "text/plain": [
              "'                        Taj Mahal is beautiful                        '"
            ]
          },
          "metadata": {
            "tags": []
          },
          "execution_count": 29
        }
      ]
    },
    {
      "cell_type": "markdown",
      "metadata": {
        "id": "fTLTqf_rx1Za",
        "colab_type": "text"
      },
      "source": [
        "One can also fill the left out spaces with any other character."
      ]
    },
    {
      "cell_type": "code",
      "metadata": {
        "id": "6Xz0PQ9cx1Za",
        "colab_type": "code",
        "colab": {
          "base_uri": "https://localhost:8080/",
          "height": 33
        },
        "outputId": "e62864a0-be08-43b6-8ada-1528253f2881"
      },
      "source": [
        "String0.center(70,'-')"
      ],
      "execution_count": 30,
      "outputs": [
        {
          "output_type": "execute_result",
          "data": {
            "text/plain": [
              "'------------------------Taj Mahal is beautiful------------------------'"
            ]
          },
          "metadata": {
            "tags": []
          },
          "execution_count": 30
        }
      ]
    },
    {
      "cell_type": "markdown",
      "metadata": {
        "id": "G10TMi-Cx1Zj",
        "colab_type": "text"
      },
      "source": [
        "**zfill( )** is used for zero padding by specifying the field width."
      ]
    },
    {
      "cell_type": "code",
      "metadata": {
        "id": "o620lQBCx1Zk",
        "colab_type": "code",
        "colab": {
          "base_uri": "https://localhost:8080/",
          "height": 33
        },
        "outputId": "c9e4467d-cbfa-42f6-8611-993f40dd0c82"
      },
      "source": [
        "String0.zfill(30)"
      ],
      "execution_count": 31,
      "outputs": [
        {
          "output_type": "execute_result",
          "data": {
            "text/plain": [
              "'00000000Taj Mahal is beautiful'"
            ]
          },
          "metadata": {
            "tags": []
          },
          "execution_count": 31
        }
      ]
    },
    {
      "cell_type": "markdown",
      "metadata": {
        "id": "CuDgtp1tx1Zq",
        "colab_type": "text"
      },
      "source": [
        "**expandtabs( )** allows you to change the spacing of the tab character. '\\t' which is by default set to 8 spaces."
      ]
    },
    {
      "cell_type": "code",
      "metadata": {
        "id": "gNcQXH1fx1Zs",
        "colab_type": "code",
        "colab": {
          "base_uri": "https://localhost:8080/",
          "height": 67
        },
        "outputId": "234d8a1a-9805-4678-bb5d-df415112a261"
      },
      "source": [
        "s = 'h\\te\\tl\\tl\\to'\n",
        "print (s)\n",
        "print (s.expandtabs(1))\n",
        "print (s.expandtabs())"
      ],
      "execution_count": 32,
      "outputs": [
        {
          "output_type": "stream",
          "text": [
            "h\te\tl\tl\to\n",
            "h e l l o\n",
            "h       e       l       l       o\n"
          ],
          "name": "stdout"
        }
      ]
    },
    {
      "cell_type": "markdown",
      "metadata": {
        "id": "ea_MW7mKx1Zy",
        "colab_type": "text"
      },
      "source": [
        "**endswith( )** function is used to check if the given string ends with the particular char which is given as input."
      ]
    },
    {
      "cell_type": "code",
      "metadata": {
        "id": "od78DgcPx1Zy",
        "colab_type": "code",
        "colab": {
          "base_uri": "https://localhost:8080/",
          "height": 33
        },
        "outputId": "6c637c40-6170-4e28-e896-874d232f5866"
      },
      "source": [
        "print (String0.endswith('y'))"
      ],
      "execution_count": 33,
      "outputs": [
        {
          "output_type": "stream",
          "text": [
            "False\n"
          ],
          "name": "stdout"
        }
      ]
    },
    {
      "cell_type": "markdown",
      "metadata": {
        "id": "GRfpzDBbx1Z5",
        "colab_type": "text"
      },
      "source": [
        "The start and stop index values can also be specified."
      ]
    },
    {
      "cell_type": "code",
      "metadata": {
        "id": "z-7B37FCx1Z8",
        "colab_type": "code",
        "colab": {
          "base_uri": "https://localhost:8080/",
          "height": 50
        },
        "outputId": "9f9d65c1-c0cb-45ef-9cca-f49fc6160390"
      },
      "source": [
        "print (String0.endswith('l',0))\n",
        "print (String0.endswith('M',0,5))"
      ],
      "execution_count": 34,
      "outputs": [
        {
          "output_type": "stream",
          "text": [
            "True\n",
            "True\n"
          ],
          "name": "stdout"
        }
      ]
    },
    {
      "cell_type": "markdown",
      "metadata": {
        "id": "VEm6wACEx1Z_",
        "colab_type": "text"
      },
      "source": [
        "**count( )** function counts the number of char in the given string. The start and the stop index can also be specified or left blank. (These are Implicit arguments which will be dealt in functions)"
      ]
    },
    {
      "cell_type": "code",
      "metadata": {
        "id": "h8t8xVUMx1aA",
        "colab_type": "code",
        "colab": {
          "base_uri": "https://localhost:8080/",
          "height": 50
        },
        "outputId": "ede6f72a-4edb-4db6-bb8a-a26c549141fa"
      },
      "source": [
        "print (String0.count('a',0))\n",
        "print (String0.count('a',5,10))"
      ],
      "execution_count": 35,
      "outputs": [
        {
          "output_type": "stream",
          "text": [
            "4\n",
            "2\n"
          ],
          "name": "stdout"
        }
      ]
    },
    {
      "cell_type": "markdown",
      "metadata": {
        "id": "kKbgBj_Mx1aD",
        "colab_type": "text"
      },
      "source": [
        "**join( )** function is used add a char in between the elements of the input string."
      ]
    },
    {
      "cell_type": "code",
      "metadata": {
        "id": "zd_8GcO-x1aE",
        "colab_type": "code",
        "colab": {
          "base_uri": "https://localhost:8080/",
          "height": 33
        },
        "outputId": "8a4e2334-c4d2-49b0-b9ea-492f6de9b9a7"
      },
      "source": [
        "'a'.join('*_-')"
      ],
      "execution_count": 36,
      "outputs": [
        {
          "output_type": "execute_result",
          "data": {
            "text/plain": [
              "'*a_a-'"
            ]
          },
          "metadata": {
            "tags": []
          },
          "execution_count": 36
        }
      ]
    },
    {
      "cell_type": "markdown",
      "metadata": {
        "id": "pHh1Dcbvx1aM",
        "colab_type": "text"
      },
      "source": [
        "'*_-' is the input string and char 'a' is added in between each element"
      ]
    },
    {
      "cell_type": "markdown",
      "metadata": {
        "id": "aCFdJX4Px1aN",
        "colab_type": "text"
      },
      "source": [
        "**join( )** function can also be used to convert a list into a string."
      ]
    },
    {
      "cell_type": "code",
      "metadata": {
        "id": "LzZQUFX6x1aN",
        "colab_type": "code",
        "colab": {
          "base_uri": "https://localhost:8080/",
          "height": 50
        },
        "outputId": "35258514-8367-435f-cf36-c00826645477"
      },
      "source": [
        "a = list(String0)\n",
        "print (a)\n",
        "b = ''.join(a)\n",
        "print (b)"
      ],
      "execution_count": 37,
      "outputs": [
        {
          "output_type": "stream",
          "text": [
            "['T', 'a', 'j', ' ', 'M', 'a', 'h', 'a', 'l', ' ', 'i', 's', ' ', 'b', 'e', 'a', 'u', 't', 'i', 'f', 'u', 'l']\n",
            "Taj Mahal is beautiful\n"
          ],
          "name": "stdout"
        }
      ]
    },
    {
      "cell_type": "markdown",
      "metadata": {
        "id": "TtIK0YLCx1aS",
        "colab_type": "text"
      },
      "source": [
        "Before converting it into a string **join( )** function can be used to insert any char in between the list elements."
      ]
    },
    {
      "cell_type": "code",
      "metadata": {
        "id": "7XxVHgzDx1aS",
        "colab_type": "code",
        "colab": {
          "base_uri": "https://localhost:8080/",
          "height": 33
        },
        "outputId": "2a1545f9-04b5-496d-8cce-28398966302f"
      },
      "source": [
        "c = '/'.join(a)[18:]\n",
        "print (c)"
      ],
      "execution_count": 38,
      "outputs": [
        {
          "output_type": "stream",
          "text": [
            " /i/s/ /b/e/a/u/t/i/f/u/l\n"
          ],
          "name": "stdout"
        }
      ]
    },
    {
      "cell_type": "markdown",
      "metadata": {
        "id": "u1uI5UMux1aX",
        "colab_type": "text"
      },
      "source": [
        "**split( )** function is used to convert a string back to a list. Think of it as the opposite of the **join()** function."
      ]
    },
    {
      "cell_type": "code",
      "metadata": {
        "id": "guNBKMYZx1aX",
        "colab_type": "code",
        "colab": {
          "base_uri": "https://localhost:8080/",
          "height": 33
        },
        "outputId": "73608962-7cc7-465b-916d-053250aadc59"
      },
      "source": [
        "d = c.split('/')\n",
        "print (d)"
      ],
      "execution_count": 39,
      "outputs": [
        {
          "output_type": "stream",
          "text": [
            "[' ', 'i', 's', ' ', 'b', 'e', 'a', 'u', 't', 'i', 'f', 'u', 'l']\n"
          ],
          "name": "stdout"
        }
      ]
    },
    {
      "cell_type": "markdown",
      "metadata": {
        "id": "QnBC8qRHx1ad",
        "colab_type": "text"
      },
      "source": [
        "In **split( )** function one can also specify the number of times you want to split the string or the number of elements the new returned list should conatin. The number of elements is always one more than the specified number this is because it is split the number of times specified."
      ]
    },
    {
      "cell_type": "code",
      "metadata": {
        "id": "Nj__WFGFx1ae",
        "colab_type": "code",
        "colab": {
          "base_uri": "https://localhost:8080/",
          "height": 50
        },
        "outputId": "e4ae51ce-3369-483a-ef1b-609d04de118d"
      },
      "source": [
        "e = c.split('/',3)\n",
        "print (e)\n",
        "print (len(e))"
      ],
      "execution_count": 40,
      "outputs": [
        {
          "output_type": "stream",
          "text": [
            "[' ', 'i', 's', ' /b/e/a/u/t/i/f/u/l']\n",
            "4\n"
          ],
          "name": "stdout"
        }
      ]
    },
    {
      "cell_type": "markdown",
      "metadata": {
        "id": "To291FD4x1ah",
        "colab_type": "text"
      },
      "source": [
        "**lower( )** converts any capital letter to small letter."
      ]
    },
    {
      "cell_type": "code",
      "metadata": {
        "id": "RO1sYNbHx1ah",
        "colab_type": "code",
        "colab": {
          "base_uri": "https://localhost:8080/",
          "height": 50
        },
        "outputId": "0fbd52f7-575b-4538-9984-7c534fac17d0"
      },
      "source": [
        "print (String0)\n",
        "print (String0.lower())"
      ],
      "execution_count": 41,
      "outputs": [
        {
          "output_type": "stream",
          "text": [
            "Taj Mahal is beautiful\n",
            "taj mahal is beautiful\n"
          ],
          "name": "stdout"
        }
      ]
    },
    {
      "cell_type": "markdown",
      "metadata": {
        "id": "RDkI5_0hx1al",
        "colab_type": "text"
      },
      "source": [
        "**upper( )** converts any small letter to capital letter."
      ]
    },
    {
      "cell_type": "code",
      "metadata": {
        "id": "1HeTieSkx1an",
        "colab_type": "code",
        "colab": {
          "base_uri": "https://localhost:8080/",
          "height": 33
        },
        "outputId": "5655e272-c76c-4b97-c2c4-997c2fdc908c"
      },
      "source": [
        "String0.upper()"
      ],
      "execution_count": 42,
      "outputs": [
        {
          "output_type": "execute_result",
          "data": {
            "text/plain": [
              "'TAJ MAHAL IS BEAUTIFUL'"
            ]
          },
          "metadata": {
            "tags": []
          },
          "execution_count": 42
        }
      ]
    },
    {
      "cell_type": "markdown",
      "metadata": {
        "id": "lKlVmVg6x1as",
        "colab_type": "text"
      },
      "source": [
        "**replace( )** function replaces the element with another element."
      ]
    },
    {
      "cell_type": "code",
      "metadata": {
        "id": "62mm7zpcx1au",
        "colab_type": "code",
        "colab": {
          "base_uri": "https://localhost:8080/",
          "height": 33
        },
        "outputId": "f85504a0-0c62-4573-a9cf-0b06024d5bef"
      },
      "source": [
        "String0.replace('Taj Mahal','Bengaluru')"
      ],
      "execution_count": 43,
      "outputs": [
        {
          "output_type": "execute_result",
          "data": {
            "text/plain": [
              "'Bengaluru is beautiful'"
            ]
          },
          "metadata": {
            "tags": []
          },
          "execution_count": 43
        }
      ]
    },
    {
      "cell_type": "markdown",
      "metadata": {
        "id": "Q048oEEzx1ax",
        "colab_type": "text"
      },
      "source": [
        "**strip( )** function is used to delete elements from the right end and the left end which is not required."
      ]
    },
    {
      "cell_type": "code",
      "metadata": {
        "id": "NMAS8hKkx1ax",
        "colab_type": "code",
        "colab": {}
      },
      "source": [
        "f = '    hello      '"
      ],
      "execution_count": 0,
      "outputs": []
    },
    {
      "cell_type": "markdown",
      "metadata": {
        "id": "DVCKFalDx1a3",
        "colab_type": "text"
      },
      "source": [
        "If no char is specified then it will delete all the spaces that is present in the right and left hand side of the data."
      ]
    },
    {
      "cell_type": "code",
      "metadata": {
        "id": "weSaaH_Ex1a4",
        "colab_type": "code",
        "colab": {
          "base_uri": "https://localhost:8080/",
          "height": 33
        },
        "outputId": "2318a582-486e-4ea9-a829-86aa982eeccb"
      },
      "source": [
        "f.strip()"
      ],
      "execution_count": 48,
      "outputs": [
        {
          "output_type": "execute_result",
          "data": {
            "text/plain": [
              "'hello'"
            ]
          },
          "metadata": {
            "tags": []
          },
          "execution_count": 48
        }
      ]
    },
    {
      "cell_type": "markdown",
      "metadata": {
        "id": "jV6ss7ACx1a8",
        "colab_type": "text"
      },
      "source": [
        "**strip( )** function, when a char is specified then it deletes that char if it is present in the two ends of the specified string."
      ]
    },
    {
      "cell_type": "code",
      "metadata": {
        "id": "R32XqCXNx1a-",
        "colab_type": "code",
        "colab": {}
      },
      "source": [
        "f = '   ***----hello---*******     '"
      ],
      "execution_count": 0,
      "outputs": []
    },
    {
      "cell_type": "code",
      "metadata": {
        "id": "39fOmxxBx1bG",
        "colab_type": "code",
        "colab": {
          "base_uri": "https://localhost:8080/",
          "height": 33
        },
        "outputId": "3abb7d11-0149-41d4-cd59-907895389474"
      },
      "source": [
        "f.strip('*')"
      ],
      "execution_count": 50,
      "outputs": [
        {
          "output_type": "execute_result",
          "data": {
            "text/plain": [
              "'   ***----hello---*******     '"
            ]
          },
          "metadata": {
            "tags": []
          },
          "execution_count": 50
        }
      ]
    },
    {
      "cell_type": "markdown",
      "metadata": {
        "id": "f7nI4LXXx1bL",
        "colab_type": "text"
      },
      "source": [
        "The asterisk had to be deleted but is not. This is because there is a space in both the right and left hand side. So in strip function. The characters need to be inputted in the specific order in which they are present."
      ]
    },
    {
      "cell_type": "code",
      "metadata": {
        "id": "RW4r7S2-x1bM",
        "colab_type": "code",
        "colab": {
          "base_uri": "https://localhost:8080/",
          "height": 50
        },
        "outputId": "2259d41a-936f-4876-bcc5-270caf2f625c"
      },
      "source": [
        "print (f.strip(' *'))\n",
        "print (f.strip(' *-'))"
      ],
      "execution_count": 51,
      "outputs": [
        {
          "output_type": "stream",
          "text": [
            "----hello---\n",
            "hello\n"
          ],
          "name": "stdout"
        }
      ]
    },
    {
      "cell_type": "markdown",
      "metadata": {
        "id": "VLqGDVUbx1bP",
        "colab_type": "text"
      },
      "source": [
        "**lstrip( )** and **rstrip( )** function have the same functionality as strip function but the only difference is **lstrip( )** deletes only towards the left side and **rstrip( )** towards the right."
      ]
    },
    {
      "cell_type": "code",
      "metadata": {
        "id": "pmGnA-5Rx1bP",
        "colab_type": "code",
        "colab": {
          "base_uri": "https://localhost:8080/",
          "height": 50
        },
        "outputId": "2dc67041-fe54-4b25-e0e8-259491f9ae19"
      },
      "source": [
        "print (f.lstrip(' *'))\n",
        "print (f.rstrip(' *'))"
      ],
      "execution_count": 52,
      "outputs": [
        {
          "output_type": "stream",
          "text": [
            "----hello---*******     \n",
            "   ***----hello---\n"
          ],
          "name": "stdout"
        }
      ]
    },
    {
      "cell_type": "markdown",
      "metadata": {
        "id": "CShoO0oFx1bT",
        "colab_type": "text"
      },
      "source": [
        "## Dictionaries"
      ]
    },
    {
      "cell_type": "markdown",
      "metadata": {
        "id": "JDAiaAkcx1bT",
        "colab_type": "text"
      },
      "source": [
        "Dictionaries are more used like a database because here you can index a particular sequence with your user defined string."
      ]
    },
    {
      "cell_type": "markdown",
      "metadata": {
        "id": "2lUO2sWsx1bU",
        "colab_type": "text"
      },
      "source": [
        "To define a dictionary, equate a variable to { } or dict()"
      ]
    },
    {
      "cell_type": "code",
      "metadata": {
        "id": "K5ffJKh3x1bV",
        "colab_type": "code",
        "colab": {
          "base_uri": "https://localhost:8080/",
          "height": 33
        },
        "outputId": "fe566862-396d-41bb-ea69-1a2a2a18e180"
      },
      "source": [
        "d0 = {}\n",
        "d1 = dict()\n",
        "print (type(d0), type(d1))"
      ],
      "execution_count": 53,
      "outputs": [
        {
          "output_type": "stream",
          "text": [
            "<class 'dict'> <class 'dict'>\n"
          ],
          "name": "stdout"
        }
      ]
    },
    {
      "cell_type": "markdown",
      "metadata": {
        "id": "b_lbhqOlx1bZ",
        "colab_type": "text"
      },
      "source": [
        "Dictionary works somewhat like a list but with an added capability of assigning it's own index style."
      ]
    },
    {
      "cell_type": "code",
      "metadata": {
        "id": "Upg_1I9qx1bZ",
        "colab_type": "code",
        "colab": {
          "base_uri": "https://localhost:8080/",
          "height": 33
        },
        "outputId": "e93b0c3c-9a12-451a-fb42-390526bd647c"
      },
      "source": [
        "d0['One'] = 1\n",
        "d0['OneTwo'] = \"12\" \n",
        "print (d0)"
      ],
      "execution_count": 54,
      "outputs": [
        {
          "output_type": "stream",
          "text": [
            "{'One': 1, 'OneTwo': '12'}\n"
          ],
          "name": "stdout"
        }
      ]
    },
    {
      "cell_type": "markdown",
      "metadata": {
        "id": "nXorCCmTx1be",
        "colab_type": "text"
      },
      "source": [
        "That is how a dictionary looks like. Now you are able to access '1' by the index value set at 'One'"
      ]
    },
    {
      "cell_type": "code",
      "metadata": {
        "id": "HrTNwDoBx1bf",
        "colab_type": "code",
        "colab": {
          "base_uri": "https://localhost:8080/",
          "height": 33
        },
        "outputId": "22f7fcea-af8f-4689-caba-9eb91cc50b45"
      },
      "source": [
        "print (d0['One'])"
      ],
      "execution_count": 55,
      "outputs": [
        {
          "output_type": "stream",
          "text": [
            "1\n"
          ],
          "name": "stdout"
        }
      ]
    },
    {
      "cell_type": "markdown",
      "metadata": {
        "id": "LV-_hZIAx1bj",
        "colab_type": "text"
      },
      "source": [
        "Two lists which are related can be merged to form a dictionary."
      ]
    },
    {
      "cell_type": "code",
      "metadata": {
        "id": "KTdJyENEx1bj",
        "colab_type": "code",
        "colab": {}
      },
      "source": [
        "names = ['One', 'Two', 'Three', 'Four', 'Five']\n",
        "numbers = [1, 2, 3, 4, 5,8]"
      ],
      "execution_count": 0,
      "outputs": []
    },
    {
      "cell_type": "markdown",
      "metadata": {
        "id": "PWXukilVx1bo",
        "colab_type": "text"
      },
      "source": [
        "**zip( )** function is used to combine two lists"
      ]
    },
    {
      "cell_type": "code",
      "metadata": {
        "id": "wersYxasx1bo",
        "colab_type": "code",
        "colab": {
          "base_uri": "https://localhost:8080/",
          "height": 33
        },
        "outputId": "61e21786-ae61-46fa-b857-82ba9e6e6b42"
      },
      "source": [
        "d2 = zip(names,numbers)\n",
        "print (d2)"
      ],
      "execution_count": 57,
      "outputs": [
        {
          "output_type": "stream",
          "text": [
            "<zip object at 0x7fc476664c88>\n"
          ],
          "name": "stdout"
        }
      ]
    },
    {
      "cell_type": "markdown",
      "metadata": {
        "id": "H7A_WWeyx1bq",
        "colab_type": "text"
      },
      "source": [
        "The two lists are combined to form a single list and each elements are clubbed with their respective elements from the other list inside a tuple. Tuples because that is what is assigned and the value should not change.\n",
        "\n",
        "Further, To convert the above into a dictionary. **dict( )** function is used."
      ]
    },
    {
      "cell_type": "code",
      "metadata": {
        "id": "-fYvrZelx1br",
        "colab_type": "code",
        "colab": {
          "base_uri": "https://localhost:8080/",
          "height": 33
        },
        "outputId": "830eb521-7b67-496c-e4a7-50d7ff6f7516"
      },
      "source": [
        "a1 = dict(d2)\n",
        "print (a1)"
      ],
      "execution_count": 58,
      "outputs": [
        {
          "output_type": "stream",
          "text": [
            "{'One': 1, 'Two': 2, 'Three': 3, 'Four': 4, 'Five': 5}\n"
          ],
          "name": "stdout"
        }
      ]
    },
    {
      "cell_type": "markdown",
      "metadata": {
        "id": "zPzNc1_ix1bt",
        "colab_type": "text"
      },
      "source": [
        "### Built-in Functions"
      ]
    },
    {
      "cell_type": "markdown",
      "metadata": {
        "id": "lzQNRaklx1bt",
        "colab_type": "text"
      },
      "source": [
        "**clear( )** function is used to erase the entire database that was created."
      ]
    },
    {
      "cell_type": "code",
      "metadata": {
        "id": "68wBAMOUx1bu",
        "colab_type": "code",
        "colab": {
          "base_uri": "https://localhost:8080/",
          "height": 33
        },
        "outputId": "8842571b-1850-41cf-dac9-b23dd5df645a"
      },
      "source": [
        "a1.clear()\n",
        "print (a1)"
      ],
      "execution_count": 59,
      "outputs": [
        {
          "output_type": "stream",
          "text": [
            "{}\n"
          ],
          "name": "stdout"
        }
      ]
    },
    {
      "cell_type": "markdown",
      "metadata": {
        "id": "77lav-qGx1bx",
        "colab_type": "text"
      },
      "source": [
        "Dictionary can also be built using loops."
      ]
    },
    {
      "cell_type": "code",
      "metadata": {
        "id": "Car2zPmdx1by",
        "colab_type": "code",
        "colab": {
          "base_uri": "https://localhost:8080/",
          "height": 33
        },
        "outputId": "fe30ef2e-7bfd-48f2-a573-b81795491c27"
      },
      "source": [
        "for i in range(len(names)):\n",
        "    a1[names[i]] = numbers[i]\n",
        "print (a1)"
      ],
      "execution_count": 60,
      "outputs": [
        {
          "output_type": "stream",
          "text": [
            "{'One': 1, 'Two': 2, 'Three': 3, 'Four': 4, 'Five': 5}\n"
          ],
          "name": "stdout"
        }
      ]
    },
    {
      "cell_type": "markdown",
      "metadata": {
        "id": "NDNqecvvx1b0",
        "colab_type": "text"
      },
      "source": [
        "**values( )** function returns a list with all the assigned values in the dictionary."
      ]
    },
    {
      "cell_type": "code",
      "metadata": {
        "id": "rJIeUzR8x1b0",
        "colab_type": "code",
        "colab": {
          "base_uri": "https://localhost:8080/",
          "height": 33
        },
        "outputId": "9a8b03aa-1a28-4dfe-b4ba-235147ff9cfb"
      },
      "source": [
        "a1.values()"
      ],
      "execution_count": 61,
      "outputs": [
        {
          "output_type": "execute_result",
          "data": {
            "text/plain": [
              "dict_values([1, 2, 3, 4, 5])"
            ]
          },
          "metadata": {
            "tags": []
          },
          "execution_count": 61
        }
      ]
    },
    {
      "cell_type": "markdown",
      "metadata": {
        "id": "NTPM02MXx1b2",
        "colab_type": "text"
      },
      "source": [
        "**keys( )** function returns all the index or the keys to which contains the values that it was assigned to."
      ]
    },
    {
      "cell_type": "code",
      "metadata": {
        "id": "HqyLUGiDx1b2",
        "colab_type": "code",
        "colab": {
          "base_uri": "https://localhost:8080/",
          "height": 33
        },
        "outputId": "a93f50bf-9365-40ea-982d-4fad9928f1ba"
      },
      "source": [
        "a1.keys()"
      ],
      "execution_count": 62,
      "outputs": [
        {
          "output_type": "execute_result",
          "data": {
            "text/plain": [
              "dict_keys(['One', 'Two', 'Three', 'Four', 'Five'])"
            ]
          },
          "metadata": {
            "tags": []
          },
          "execution_count": 62
        }
      ]
    },
    {
      "cell_type": "markdown",
      "metadata": {
        "id": "pc1-U4Ojx1b4",
        "colab_type": "text"
      },
      "source": [
        "**items( )** is returns a list containing both the list but each element in the dictionary is inside a tuple. This is same as the result that was obtained when zip function was used."
      ]
    },
    {
      "cell_type": "code",
      "metadata": {
        "id": "RsHro0AJx1b8",
        "colab_type": "code",
        "colab": {
          "base_uri": "https://localhost:8080/",
          "height": 33
        },
        "outputId": "c262b361-ebfd-4b6f-e744-5923282cdfa2"
      },
      "source": [
        "a1.items()"
      ],
      "execution_count": 63,
      "outputs": [
        {
          "output_type": "execute_result",
          "data": {
            "text/plain": [
              "dict_items([('One', 1), ('Two', 2), ('Three', 3), ('Four', 4), ('Five', 5)])"
            ]
          },
          "metadata": {
            "tags": []
          },
          "execution_count": 63
        }
      ]
    },
    {
      "cell_type": "markdown",
      "metadata": {
        "id": "OUkQfptVx1b-",
        "colab_type": "text"
      },
      "source": [
        "**pop( )** function is used to get the remove that particular element and this removed element can be assigned to a new variable. But remember only the value is stored and not the key. Because the is just a index value."
      ]
    },
    {
      "cell_type": "code",
      "metadata": {
        "id": "2z8FsQBzx1cA",
        "colab_type": "code",
        "colab": {
          "base_uri": "https://localhost:8080/",
          "height": 50
        },
        "outputId": "952516d0-3de6-4687-b07e-3c4877b3d6b1"
      },
      "source": [
        "a2 = a1.pop('Four')\n",
        "print (a1)\n",
        "print (a2)"
      ],
      "execution_count": 64,
      "outputs": [
        {
          "output_type": "stream",
          "text": [
            "{'One': 1, 'Two': 2, 'Three': 3, 'Five': 5}\n",
            "4\n"
          ],
          "name": "stdout"
        }
      ]
    },
    {
      "cell_type": "code",
      "metadata": {
        "id": "zNQoMLcXx1cD",
        "colab_type": "code",
        "colab": {}
      },
      "source": [
        ""
      ],
      "execution_count": 0,
      "outputs": []
    }
  ]
}