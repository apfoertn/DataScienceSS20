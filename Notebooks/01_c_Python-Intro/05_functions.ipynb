{
  "nbformat": 4,
  "nbformat_minor": 0,
  "metadata": {
    "kernelspec": {
      "display_name": "Python 3",
      "language": "python",
      "name": "python3"
    },
    "language_info": {
      "codemirror_mode": {
        "name": "ipython",
        "version": 3
      },
      "file_extension": ".py",
      "mimetype": "text/x-python",
      "name": "python",
      "nbconvert_exporter": "python",
      "pygments_lexer": "ipython3",
      "version": "3.7.1"
    },
    "colab": {
      "name": "05_functions.ipynb",
      "provenance": []
    }
  },
  "cells": [
    {
      "cell_type": "markdown",
      "metadata": {
        "id": "oizowpPnGxcs",
        "colab_type": "text"
      },
      "source": [
        "# Introduction to Python V - Functions\n",
        "* Based on a lecture series by Rajath Kumart (https://github.com/rajathkumarmp/Python-Lectures)\n",
        "* Ported to Python3 and extessions added by Janis Keuper\n",
        "* Copyright: Creative Commons Attribution 3.0 Unported License. To view a copy of this license, visit http://creativecommons.org/licenses/by/3.0/"
      ]
    },
    {
      "cell_type": "code",
      "metadata": {
        "id": "ydC_r83FGxcu",
        "colab_type": "code",
        "colab": {
          "base_uri": "https://localhost:8080/",
          "height": 117
        },
        "outputId": "5df3f9e5-0c71-4ac2-ca6a-0f3b4f24b36c"
      },
      "source": [
        "#check if notebook runs in colab\n",
        "import sys\n",
        "IN_COLAB = 'google.colab' in sys.modules\n",
        "print('running in Colab:',IN_COLAB)\n",
        "path='..'\n",
        "if IN_COLAB:\n",
        "  #in colab, we need to clone the data from the repo\n",
        "  !git clone https://github.com/keuperj/DataScienceSS20.git\n",
        "  path='DataScienceSS20'"
      ],
      "execution_count": 1,
      "outputs": [
        {
          "output_type": "stream",
          "text": [
            "running in Colab: True\n",
            "Cloning into 'DataScienceSS20'...\n",
            "remote: Enumerating objects: 248, done.\u001b[K\n",
            "remote: Total 248 (delta 0), reused 0 (delta 0), pack-reused 248\u001b[K\n",
            "Receiving objects: 100% (248/248), 45.43 MiB | 21.19 MiB/s, done.\n",
            "Resolving deltas: 100% (85/85), done.\n"
          ],
          "name": "stdout"
        }
      ]
    },
    {
      "cell_type": "markdown",
      "metadata": {
        "id": "SZbhuAzBGxc2",
        "colab_type": "text"
      },
      "source": [
        "# Functions"
      ]
    },
    {
      "cell_type": "markdown",
      "metadata": {
        "id": "Ss-Wl2AWGxc2",
        "colab_type": "text"
      },
      "source": [
        "Most of the times, In a algorithm the statements keep repeating and it will be a tedious job to execute the same statements again and again and will consume a lot of memory and is not efficient. Enter Functions."
      ]
    },
    {
      "cell_type": "markdown",
      "metadata": {
        "id": "ZyNXLBZnGxc3",
        "colab_type": "text"
      },
      "source": [
        "This is the basic syntax of a function"
      ]
    },
    {
      "cell_type": "markdown",
      "metadata": {
        "id": "qnBXp5l_Gxc4",
        "colab_type": "text"
      },
      "source": [
        "def funcname(arg1, arg2,... argN):\n",
        "    \n",
        "    ''' Document String'''\n",
        "\n",
        "    statements\n",
        "\n",
        "\n",
        "    return <value>"
      ]
    },
    {
      "cell_type": "markdown",
      "metadata": {
        "id": "vIpjm4gEGxc5",
        "colab_type": "text"
      },
      "source": [
        "Read the above syntax as, A function by name \"funcname\" is defined, which accepts arguements \"arg1,arg2,....argN\". The function is documented and it is '''Document String'''. The function after executing the statements returns a \"value\"."
      ]
    },
    {
      "cell_type": "code",
      "metadata": {
        "id": "oL9FNHSDGxc6",
        "colab_type": "code",
        "colab": {
          "base_uri": "https://localhost:8080/",
          "height": 50
        },
        "outputId": "add013ee-8126-46fc-816e-36c6e3327077"
      },
      "source": [
        "print (\"Hello!\")\n",
        "print (\"How do you do?\")"
      ],
      "execution_count": 2,
      "outputs": [
        {
          "output_type": "stream",
          "text": [
            "Hello!\n",
            "How do you do?\n"
          ],
          "name": "stdout"
        }
      ]
    },
    {
      "cell_type": "markdown",
      "metadata": {
        "id": "T8Gq46e4Gxc-",
        "colab_type": "text"
      },
      "source": [
        "Instead of writing the above two statements every single time it can be replaced by defining a function which would do the job in just one line. \n",
        "\n",
        "Defining a function firstfunc()."
      ]
    },
    {
      "cell_type": "code",
      "metadata": {
        "id": "ftaQsmCMGxc_",
        "colab_type": "code",
        "colab": {}
      },
      "source": [
        "def firstfunc():\n",
        "    print (\"Hello\")\n",
        "    print (\"How do you do?\")   "
      ],
      "execution_count": 0,
      "outputs": []
    },
    {
      "cell_type": "code",
      "metadata": {
        "id": "RK45OubGGxdD",
        "colab_type": "code",
        "colab": {
          "base_uri": "https://localhost:8080/",
          "height": 50
        },
        "outputId": "a351a3ca-9b93-4251-b714-0f68c2ed0911"
      },
      "source": [
        "firstfunc()"
      ],
      "execution_count": 4,
      "outputs": [
        {
          "output_type": "stream",
          "text": [
            "Hello\n",
            "How do you do?\n"
          ],
          "name": "stdout"
        }
      ]
    },
    {
      "cell_type": "markdown",
      "metadata": {
        "id": "bIDnTa4qGxdH",
        "colab_type": "text"
      },
      "source": [
        "**firstfunc()** every time just prints the message to a single person. We can make our function **firstfunc()** to accept arguements which will store the name and then prints respective to that accepted name. To do so, add a argument within the function as shown."
      ]
    },
    {
      "cell_type": "code",
      "metadata": {
        "id": "HtrXNuQeGxdI",
        "colab_type": "code",
        "colab": {}
      },
      "source": [
        "def firstfunc(username):\n",
        "    print (\"Hey\", username + '!')\n",
        "    print (username + ',' ,\"How do you do?\")"
      ],
      "execution_count": 0,
      "outputs": []
    },
    {
      "cell_type": "code",
      "metadata": {
        "id": "bb7gCMaFGxdT",
        "colab_type": "code",
        "colab": {
          "base_uri": "https://localhost:8080/",
          "height": 50
        },
        "outputId": "b3072d90-cbe3-4413-9032-cdb2b32dc869"
      },
      "source": [
        "firstfunc(\"Hans\")"
      ],
      "execution_count": 6,
      "outputs": [
        {
          "output_type": "stream",
          "text": [
            "Hey Hans!\n",
            "Hans, How do you do?\n"
          ],
          "name": "stdout"
        }
      ]
    },
    {
      "cell_type": "markdown",
      "metadata": {
        "id": "wMTE_0lXGxdc",
        "colab_type": "text"
      },
      "source": [
        "Let us simplify this even further by defining another function **secondfunc()** which accepts the name and stores it inside a variable and then calls the **firstfunc()** from inside the function itself."
      ]
    },
    {
      "cell_type": "code",
      "metadata": {
        "id": "PZKS3uv8Gxdd",
        "colab_type": "code",
        "colab": {}
      },
      "source": [
        "def firstfunc(username):\n",
        "    print (\"Hey\", username + '!')\n",
        "    print (username + ',' ,\"How do you do?\")\n",
        "def secondfunc():\n",
        "    name = input(\"Please enter your name : \")\n",
        "    firstfunc(name)"
      ],
      "execution_count": 0,
      "outputs": []
    },
    {
      "cell_type": "code",
      "metadata": {
        "id": "N7sARXEAGxdk",
        "colab_type": "code",
        "colab": {
          "base_uri": "https://localhost:8080/",
          "height": 67
        },
        "outputId": "97ec6335-b95a-467d-a581-8b8a3e98677d"
      },
      "source": [
        "secondfunc()"
      ],
      "execution_count": 8,
      "outputs": [
        {
          "output_type": "stream",
          "text": [
            "Please enter your name : Achim\n",
            "Hey Achim!\n",
            "Achim, How do you do?\n"
          ],
          "name": "stdout"
        }
      ]
    },
    {
      "cell_type": "markdown",
      "metadata": {
        "id": "4-zKgoJtGxds",
        "colab_type": "text"
      },
      "source": [
        "## Return Statement"
      ]
    },
    {
      "cell_type": "markdown",
      "metadata": {
        "id": "pnpeqS2AGxdt",
        "colab_type": "text"
      },
      "source": [
        "When the function results in some value and that value has to be stored in a variable or needs to be sent back or returned for further operation to the main algorithm, return statement is used."
      ]
    },
    {
      "cell_type": "code",
      "metadata": {
        "id": "HQJ4x4hMGxdv",
        "colab_type": "code",
        "colab": {}
      },
      "source": [
        "def times(x,y):\n",
        "    z = x*y\n",
        "    return z"
      ],
      "execution_count": 0,
      "outputs": []
    },
    {
      "cell_type": "markdown",
      "metadata": {
        "id": "Fuk1uXAAGxd5",
        "colab_type": "text"
      },
      "source": [
        "The above defined **times( )** function accepts two arguements and return the variable z which contains the result of the product of the two arguements"
      ]
    },
    {
      "cell_type": "code",
      "metadata": {
        "id": "WXfZ7oMlGxd6",
        "colab_type": "code",
        "colab": {
          "base_uri": "https://localhost:8080/",
          "height": 33
        },
        "outputId": "f122a1b3-e784-4f41-c2b2-abc3e9e4059c"
      },
      "source": [
        "c = times(4,5)\n",
        "print (c)"
      ],
      "execution_count": 10,
      "outputs": [
        {
          "output_type": "stream",
          "text": [
            "20\n"
          ],
          "name": "stdout"
        }
      ]
    },
    {
      "cell_type": "markdown",
      "metadata": {
        "id": "tadf4PEHGxeB",
        "colab_type": "text"
      },
      "source": [
        "The z value is stored in variable c and can be used for further operations."
      ]
    },
    {
      "cell_type": "markdown",
      "metadata": {
        "id": "QvKYp_KMGxeC",
        "colab_type": "text"
      },
      "source": [
        "Instead of declaring another variable the entire statement itself can be used in the return statement as shown."
      ]
    },
    {
      "cell_type": "code",
      "metadata": {
        "id": "YV95c-jYGxeD",
        "colab_type": "code",
        "colab": {}
      },
      "source": [
        "def times(x,y):\n",
        "    '''This multiplies the two input arguments'''\n",
        "    return x*y"
      ],
      "execution_count": 0,
      "outputs": []
    },
    {
      "cell_type": "code",
      "metadata": {
        "id": "yfH6TeWiGxeG",
        "colab_type": "code",
        "colab": {
          "base_uri": "https://localhost:8080/",
          "height": 33
        },
        "outputId": "05e11d83-e298-4936-d60a-8a7a59029ac9"
      },
      "source": [
        "c = times(4,5)\n",
        "print (c)"
      ],
      "execution_count": 12,
      "outputs": [
        {
          "output_type": "stream",
          "text": [
            "20\n"
          ],
          "name": "stdout"
        }
      ]
    },
    {
      "cell_type": "markdown",
      "metadata": {
        "id": "2el939vaGxeJ",
        "colab_type": "text"
      },
      "source": [
        "Since the **times( )** is now defined, we can document it as shown above. This document is returned whenever **times( )** function is called under **help( )** function."
      ]
    },
    {
      "cell_type": "code",
      "metadata": {
        "id": "HCC2I33JGxeK",
        "colab_type": "code",
        "colab": {
          "base_uri": "https://localhost:8080/",
          "height": 100
        },
        "outputId": "60195c45-e32f-4aab-a1ef-174bbbfbe8d5"
      },
      "source": [
        "help(times)"
      ],
      "execution_count": 13,
      "outputs": [
        {
          "output_type": "stream",
          "text": [
            "Help on function times in module __main__:\n",
            "\n",
            "times(x, y)\n",
            "    This multiplies the two input arguments\n",
            "\n"
          ],
          "name": "stdout"
        }
      ]
    },
    {
      "cell_type": "markdown",
      "metadata": {
        "id": "R9got70FGxeN",
        "colab_type": "text"
      },
      "source": [
        "Multiple variable can also be returned, But keep in mind the order."
      ]
    },
    {
      "cell_type": "code",
      "metadata": {
        "id": "_fftaLXcGxeO",
        "colab_type": "code",
        "colab": {}
      },
      "source": [
        "eglist = [10,50,30,12,6,8,100]"
      ],
      "execution_count": 0,
      "outputs": []
    },
    {
      "cell_type": "code",
      "metadata": {
        "id": "MA4-vgysGxeS",
        "colab_type": "code",
        "colab": {}
      },
      "source": [
        "def egfunc(eglist):\n",
        "    highest = max(eglist)\n",
        "    lowest = min(eglist)\n",
        "    first = eglist[0]\n",
        "    last = eglist[-1]\n",
        "    return highest,lowest,first,last"
      ],
      "execution_count": 0,
      "outputs": []
    },
    {
      "cell_type": "markdown",
      "metadata": {
        "id": "PxgYQhOMGxeX",
        "colab_type": "text"
      },
      "source": [
        "If the function is just called without any variable for it to be assigned to, the result is returned inside a tuple. But if the variables are mentioned then the result is assigned to the variable in a particular order which is declared in the return statement."
      ]
    },
    {
      "cell_type": "code",
      "metadata": {
        "id": "CKrLQcKUGxeY",
        "colab_type": "code",
        "colab": {
          "base_uri": "https://localhost:8080/",
          "height": 33
        },
        "outputId": "26ede149-bd9c-4119-c339-a9f9355fdf8b"
      },
      "source": [
        "egfunc(eglist)"
      ],
      "execution_count": 16,
      "outputs": [
        {
          "output_type": "execute_result",
          "data": {
            "text/plain": [
              "(100, 6, 10, 100)"
            ]
          },
          "metadata": {
            "tags": []
          },
          "execution_count": 16
        }
      ]
    },
    {
      "cell_type": "code",
      "metadata": {
        "id": "oBBHW7ioGxeb",
        "colab_type": "code",
        "colab": {
          "base_uri": "https://localhost:8080/",
          "height": 83
        },
        "outputId": "64429a9c-6fb2-497a-ac13-5c4aea69cf1c"
      },
      "source": [
        "a,b,c,d = egfunc(eglist)\n",
        "print (' a =',a,'\\n b =',b,'\\n c =',c,'\\n d =',d)"
      ],
      "execution_count": 17,
      "outputs": [
        {
          "output_type": "stream",
          "text": [
            " a = 100 \n",
            " b = 6 \n",
            " c = 10 \n",
            " d = 100\n"
          ],
          "name": "stdout"
        }
      ]
    },
    {
      "cell_type": "markdown",
      "metadata": {
        "id": "9UVhSvokGxef",
        "colab_type": "text"
      },
      "source": [
        "## Implicit arguments"
      ]
    },
    {
      "cell_type": "markdown",
      "metadata": {
        "id": "xhbk5-W3Gxeg",
        "colab_type": "text"
      },
      "source": [
        "When an argument of a function is common in majority of the cases or it is \"implicit\" this concept is used."
      ]
    },
    {
      "cell_type": "code",
      "metadata": {
        "id": "hRTF1u59Gxeg",
        "colab_type": "code",
        "colab": {}
      },
      "source": [
        "def implicitadd(x,y=3):\n",
        "    return x+y"
      ],
      "execution_count": 0,
      "outputs": []
    },
    {
      "cell_type": "markdown",
      "metadata": {
        "id": "UKzQxEWDGxel",
        "colab_type": "text"
      },
      "source": [
        "**implicitadd( )** is a function accepts two arguments but most of the times the first argument needs to be added just by 3. Hence the second argument is assigned the value 3. Here the second argument is implicit."
      ]
    },
    {
      "cell_type": "markdown",
      "metadata": {
        "id": "KKmoNqamGxen",
        "colab_type": "text"
      },
      "source": [
        "Now if the second argument is not defined when calling the **implicitadd( )** function then it considered as 3."
      ]
    },
    {
      "cell_type": "code",
      "metadata": {
        "id": "p0zKS_GQGxeo",
        "colab_type": "code",
        "colab": {
          "base_uri": "https://localhost:8080/",
          "height": 33
        },
        "outputId": "32da7c5f-d3b0-428d-f68e-76ee1a6fdea9"
      },
      "source": [
        "implicitadd(4)"
      ],
      "execution_count": 19,
      "outputs": [
        {
          "output_type": "execute_result",
          "data": {
            "text/plain": [
              "7"
            ]
          },
          "metadata": {
            "tags": []
          },
          "execution_count": 19
        }
      ]
    },
    {
      "cell_type": "markdown",
      "metadata": {
        "id": "r0JQwKjwGxew",
        "colab_type": "text"
      },
      "source": [
        "But if the second argument is specified then this value overrides the implicit value assigned to the argument "
      ]
    },
    {
      "cell_type": "code",
      "metadata": {
        "id": "op8mMWvOGxey",
        "colab_type": "code",
        "colab": {
          "base_uri": "https://localhost:8080/",
          "height": 33
        },
        "outputId": "ecd665f1-03f6-49b0-9324-c99376f8d531"
      },
      "source": [
        "implicitadd(4,4)"
      ],
      "execution_count": 20,
      "outputs": [
        {
          "output_type": "execute_result",
          "data": {
            "text/plain": [
              "8"
            ]
          },
          "metadata": {
            "tags": []
          },
          "execution_count": 20
        }
      ]
    },
    {
      "cell_type": "markdown",
      "metadata": {
        "id": "o6MF7FPYGxe9",
        "colab_type": "text"
      },
      "source": [
        "## Any number of arguments"
      ]
    },
    {
      "cell_type": "markdown",
      "metadata": {
        "id": "wpD6HzPSGxe-",
        "colab_type": "text"
      },
      "source": [
        "If the number of arguments that is to be accepted by a function is not known then a asterisk symbol is used before the argument."
      ]
    },
    {
      "cell_type": "code",
      "metadata": {
        "id": "F1Mc39HlGxfA",
        "colab_type": "code",
        "colab": {}
      },
      "source": [
        "def add_n(*args):\n",
        "    res = 0\n",
        "    reslist = []\n",
        "    for i in args:\n",
        "        reslist.append(i)\n",
        "    print (reslist)\n",
        "    return sum(reslist)"
      ],
      "execution_count": 0,
      "outputs": []
    },
    {
      "cell_type": "markdown",
      "metadata": {
        "id": "czIWsNwiGxfH",
        "colab_type": "text"
      },
      "source": [
        "The above function accepts any number of arguments, defines a list and appends all the arguments into that list and return the sum of all the arguments."
      ]
    },
    {
      "cell_type": "code",
      "metadata": {
        "id": "693FffPvGxfJ",
        "colab_type": "code",
        "colab": {
          "base_uri": "https://localhost:8080/",
          "height": 50
        },
        "outputId": "55e156e9-f2fc-4733-fc4e-d89e90f6e98b"
      },
      "source": [
        "add_n(1,2,3,4,5)"
      ],
      "execution_count": 22,
      "outputs": [
        {
          "output_type": "stream",
          "text": [
            "[1, 2, 3, 4, 5]\n"
          ],
          "name": "stdout"
        },
        {
          "output_type": "execute_result",
          "data": {
            "text/plain": [
              "15"
            ]
          },
          "metadata": {
            "tags": []
          },
          "execution_count": 22
        }
      ]
    },
    {
      "cell_type": "code",
      "metadata": {
        "id": "au2sGf_mGxfQ",
        "colab_type": "code",
        "colab": {
          "base_uri": "https://localhost:8080/",
          "height": 50
        },
        "outputId": "1b52af4a-4960-4278-f22d-4e6bc699bd02"
      },
      "source": [
        "add_n(1,2,3)"
      ],
      "execution_count": 23,
      "outputs": [
        {
          "output_type": "stream",
          "text": [
            "[1, 2, 3]\n"
          ],
          "name": "stdout"
        },
        {
          "output_type": "execute_result",
          "data": {
            "text/plain": [
              "6"
            ]
          },
          "metadata": {
            "tags": []
          },
          "execution_count": 23
        }
      ]
    },
    {
      "cell_type": "code",
      "metadata": {
        "id": "KVQkRY6wGxfX",
        "colab_type": "code",
        "colab": {}
      },
      "source": [
        "def multi_reurn():\n",
        "    return 1,2,3,4,5"
      ],
      "execution_count": 0,
      "outputs": []
    },
    {
      "cell_type": "code",
      "metadata": {
        "id": "ug9PsAQDGxfc",
        "colab_type": "code",
        "colab": {}
      },
      "source": [
        "a,b,c,d,e=multi_reurn()"
      ],
      "execution_count": 0,
      "outputs": []
    },
    {
      "cell_type": "code",
      "metadata": {
        "id": "z6CCszEQGxfi",
        "colab_type": "code",
        "colab": {
          "base_uri": "https://localhost:8080/",
          "height": 33
        },
        "outputId": "a51b2346-123c-4871-8894-373f78086b24"
      },
      "source": [
        "print (a,e)"
      ],
      "execution_count": 26,
      "outputs": [
        {
          "output_type": "stream",
          "text": [
            "1 5\n"
          ],
          "name": "stdout"
        }
      ]
    },
    {
      "cell_type": "code",
      "metadata": {
        "id": "rz9TmffdGxfm",
        "colab_type": "code",
        "colab": {
          "base_uri": "https://localhost:8080/",
          "height": 33
        },
        "outputId": "e02db1e3-51b1-4bf4-e1d9-5b6e5e2c4ecc"
      },
      "source": [
        "\n",
        "multi_reurn()"
      ],
      "execution_count": 27,
      "outputs": [
        {
          "output_type": "execute_result",
          "data": {
            "text/plain": [
              "(1, 2, 3, 4, 5)"
            ]
          },
          "metadata": {
            "tags": []
          },
          "execution_count": 27
        }
      ]
    },
    {
      "cell_type": "markdown",
      "metadata": {
        "id": "NFp92rh9Gxf0",
        "colab_type": "text"
      },
      "source": [
        "## Global and Local Variables"
      ]
    },
    {
      "cell_type": "markdown",
      "metadata": {
        "id": "EvclZqpBGxf1",
        "colab_type": "text"
      },
      "source": [
        "Whatever variable is declared inside a function is local variable and outside the function in global variable."
      ]
    },
    {
      "cell_type": "code",
      "metadata": {
        "id": "TMfQUNrpGxf2",
        "colab_type": "code",
        "colab": {}
      },
      "source": [
        "eg1 = [1,2,3,4,5]"
      ],
      "execution_count": 0,
      "outputs": []
    },
    {
      "cell_type": "markdown",
      "metadata": {
        "id": "ejnEqqa8Gxf7",
        "colab_type": "text"
      },
      "source": [
        "In the below function we are appending a element to the declared list inside the function. eg2 variable declared inside the function is a local variable."
      ]
    },
    {
      "cell_type": "code",
      "metadata": {
        "id": "PqulQsXlGxf7",
        "colab_type": "code",
        "colab": {}
      },
      "source": [
        "def egfunc1():\n",
        "    def thirdfunc(arg1):\n",
        "        eg2 = arg1[:]\n",
        "        eg2.append(6)\n",
        "        print (\"This is happening inside the function :\", eg2 )\n",
        "    print (\"This is happening before the function is called : \", eg1)\n",
        "    thirdfunc(eg1)\n",
        "    print (\"This is happening outside the function :\", eg1   )\n",
        "    print (\"Accessing a variable declared inside the function from outside :\" , eg2)"
      ],
      "execution_count": 0,
      "outputs": []
    },
    {
      "cell_type": "code",
      "metadata": {
        "id": "s2dzN-vLGxgD",
        "colab_type": "code",
        "colab": {
          "base_uri": "https://localhost:8080/",
          "height": 295
        },
        "outputId": "90aee12a-03b9-4b8e-e991-599cc6c941c7"
      },
      "source": [
        "egfunc1()"
      ],
      "execution_count": 36,
      "outputs": [
        {
          "output_type": "stream",
          "text": [
            "This is happening before the function is called :  [1, 2, 3, 4, 5]\n",
            "This is happening inside the function : [1, 2, 3, 4, 5, 6]\n",
            "This is happening outside the function : [1, 2, 3, 4, 5]\n"
          ],
          "name": "stdout"
        },
        {
          "output_type": "error",
          "ename": "NameError",
          "evalue": "ignored",
          "traceback": [
            "\u001b[0;31m---------------------------------------------------------------------------\u001b[0m",
            "\u001b[0;31mNameError\u001b[0m                                 Traceback (most recent call last)",
            "\u001b[0;32m<ipython-input-36-a0aede218e7c>\u001b[0m in \u001b[0;36m<module>\u001b[0;34m()\u001b[0m\n\u001b[0;32m----> 1\u001b[0;31m \u001b[0megfunc1\u001b[0m\u001b[0;34m(\u001b[0m\u001b[0;34m)\u001b[0m\u001b[0;34m\u001b[0m\u001b[0;34m\u001b[0m\u001b[0m\n\u001b[0m",
            "\u001b[0;32m<ipython-input-32-9fc0645d6208>\u001b[0m in \u001b[0;36megfunc1\u001b[0;34m()\u001b[0m\n\u001b[1;32m      7\u001b[0m     \u001b[0mthirdfunc\u001b[0m\u001b[0;34m(\u001b[0m\u001b[0meg1\u001b[0m\u001b[0;34m)\u001b[0m\u001b[0;34m\u001b[0m\u001b[0;34m\u001b[0m\u001b[0m\n\u001b[1;32m      8\u001b[0m     \u001b[0mprint\u001b[0m \u001b[0;34m(\u001b[0m\u001b[0;34m\"This is happening outside the function :\"\u001b[0m\u001b[0;34m,\u001b[0m \u001b[0meg1\u001b[0m   \u001b[0;34m)\u001b[0m\u001b[0;34m\u001b[0m\u001b[0;34m\u001b[0m\u001b[0m\n\u001b[0;32m----> 9\u001b[0;31m     \u001b[0mprint\u001b[0m \u001b[0;34m(\u001b[0m\u001b[0;34m\"Accessing a variable declared inside the function from outside :\"\u001b[0m \u001b[0;34m,\u001b[0m \u001b[0meg2\u001b[0m\u001b[0;34m)\u001b[0m\u001b[0;34m\u001b[0m\u001b[0;34m\u001b[0m\u001b[0m\n\u001b[0m",
            "\u001b[0;31mNameError\u001b[0m: name 'eg2' is not defined"
          ]
        }
      ]
    },
    {
      "cell_type": "markdown",
      "metadata": {
        "id": "Ywmwc7AYGxgc",
        "colab_type": "text"
      },
      "source": [
        "If a **global** variable is defined as shown in the example below then that variable can be called from anywhere."
      ]
    },
    {
      "cell_type": "code",
      "metadata": {
        "id": "t3XjKZU0Gxgd",
        "colab_type": "code",
        "colab": {}
      },
      "source": [
        "eg3 = [1,2,3,4,5]"
      ],
      "execution_count": 0,
      "outputs": []
    },
    {
      "cell_type": "code",
      "metadata": {
        "id": "Wx56RZSPGxgh",
        "colab_type": "code",
        "colab": {}
      },
      "source": [
        "def egfunc1():\n",
        "    def thirdfunc(arg1):\n",
        "        global eg2\n",
        "        eg2 = arg1[:]\n",
        "        eg2.append(6)\n",
        "        print (\"This is happening inside the function :\", eg2 )\n",
        "    print (\"This is happening before the function is called : \", eg1)\n",
        "    thirdfunc(eg1)\n",
        "    print (\"This is happening outside the function :\", eg1)   \n",
        "    print (\"Accessing a variable declared inside the function from outside :\" , eg2)"
      ],
      "execution_count": 0,
      "outputs": []
    },
    {
      "cell_type": "code",
      "metadata": {
        "id": "cWb8YasjGxgl",
        "colab_type": "code",
        "colab": {
          "base_uri": "https://localhost:8080/",
          "height": 83
        },
        "outputId": "65229a24-2ef1-458c-aa9d-19e0f30673c6"
      },
      "source": [
        "egfunc1()"
      ],
      "execution_count": 39,
      "outputs": [
        {
          "output_type": "stream",
          "text": [
            "This is happening before the function is called :  [1, 2, 3, 4, 5]\n",
            "This is happening inside the function : [1, 2, 3, 4, 5, 6]\n",
            "This is happening outside the function : [1, 2, 3, 4, 5]\n",
            "Accessing a variable declared inside the function from outside : [1, 2, 3, 4, 5, 6]\n"
          ],
          "name": "stdout"
        }
      ]
    },
    {
      "cell_type": "code",
      "metadata": {
        "id": "J-21AM-Xc0XV",
        "colab_type": "code",
        "colab": {}
      },
      "source": [
        ""
      ],
      "execution_count": 0,
      "outputs": []
    }
  ]
}